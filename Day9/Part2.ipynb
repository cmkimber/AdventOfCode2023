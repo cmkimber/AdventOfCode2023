{
 "cells": [
  {
   "cell_type": "markdown",
   "id": "a188eb39",
   "metadata": {},
   "source": [
    "# Advent of Code 2023"
   ]
  },
  {
   "cell_type": "markdown",
   "id": "71d9717a",
   "metadata": {},
   "source": [
    "## Day 9 -- Mirage Maintenance (Part 2)"
   ]
  },
  {
   "cell_type": "markdown",
   "id": "5273c032",
   "metadata": {},
   "source": [
    "## Author: Chris Kimber"
   ]
  },
  {
   "cell_type": "markdown",
   "id": "8662c93e",
   "metadata": {},
   "source": [
    "The instructions for this problem can be found at https://adventofcode.com/2023/day/9.\n",
    "\n",
    "In this problem, part 2 is quite similar to part 1. The change is that instead of working through the input row from left to right and extrapolating the rightmost value, the goal is to work from right to left and extrapolate the leftmost value.\n",
    "\n",
    "Initial data ingestion and prcessing is the same."
   ]
  },
  {
   "cell_type": "code",
   "execution_count": 58,
   "id": "829bf827",
   "metadata": {},
   "outputs": [],
   "source": [
    "with open(\"input\", \"r\") as f:\n",
    "    input_file = f.read().splitlines()"
   ]
  },
  {
   "cell_type": "code",
   "execution_count": 59,
   "id": "eb0e5276",
   "metadata": {},
   "outputs": [],
   "source": [
    "input_list = [x.split(\" \") for x in input_file]"
   ]
  },
  {
   "cell_type": "code",
   "execution_count": 60,
   "id": "193694e3",
   "metadata": {},
   "outputs": [],
   "source": [
    "input_list = [[int(n) for n in sublist] for sublist in input_list]"
   ]
  },
  {
   "cell_type": "code",
   "execution_count": 37,
   "id": "249f0993",
   "metadata": {},
   "outputs": [
    {
     "data": {
      "text/plain": [
       "[[0, 3, 6, 9, 12, 15], [1, 3, 6, 10, 15, 21], [10, 13, 16, 21, 30, 45]]"
      ]
     },
     "execution_count": 37,
     "metadata": {},
     "output_type": "execute_result"
    }
   ],
   "source": [
    "input_list"
   ]
  },
  {
   "cell_type": "markdown",
   "id": "38846140",
   "metadata": {},
   "source": [
    "As a trick, the order of the rows is then reversed before running the recursive function."
   ]
  },
  {
   "cell_type": "code",
   "execution_count": 61,
   "id": "35136b7d",
   "metadata": {},
   "outputs": [],
   "source": [
    "input_list = [sublist[::-1] for sublist in input_list]"
   ]
  },
  {
   "cell_type": "code",
   "execution_count": 39,
   "id": "ef37290c",
   "metadata": {},
   "outputs": [
    {
     "data": {
      "text/plain": [
       "[[15, 12, 9, 6, 3, 0], [21, 15, 10, 6, 3, 1], [45, 30, 21, 16, 13, 10]]"
      ]
     },
     "execution_count": 39,
     "metadata": {},
     "output_type": "execute_result"
    }
   ],
   "source": [
    "input_list"
   ]
  },
  {
   "cell_type": "markdown",
   "id": "f5d0e8fc",
   "metadata": {},
   "source": [
    "The logic of the recursive function is similar to part 1, with the same stopping condition. The order of subtraction is reversed so the signs match that of the example. When extrapolating, the last value of a given row is then subtracted from the last value of the row above rather than added."
   ]
  },
  {
   "cell_type": "code",
   "execution_count": 40,
   "id": "0c5470d7",
   "metadata": {},
   "outputs": [],
   "source": [
    "from itertools import pairwise"
   ]
  },
  {
   "cell_type": "code",
   "execution_count": 68,
   "id": "c311b594",
   "metadata": {},
   "outputs": [],
   "source": [
    "def extrapolate_value(row):\n",
    "    if all(n == 0 for n in row):\n",
    "        return 0\n",
    "    \n",
    "    next_row = [x-y for x, y in pairwise(row)]\n",
    "    #print(next_row)\n",
    "    output = extrapolate_value(next_row)\n",
    "    #print(output)\n",
    "    #print(row[-1])\n",
    "    return row[-1] - output"
   ]
  },
  {
   "cell_type": "code",
   "execution_count": 69,
   "id": "4a079c68",
   "metadata": {},
   "outputs": [
    {
     "data": {
      "text/plain": [
       "9"
      ]
     },
     "execution_count": 69,
     "metadata": {},
     "output_type": "execute_result"
    }
   ],
   "source": [
    "extrapolate_value(input_list[0])"
   ]
  },
  {
   "cell_type": "markdown",
   "id": "39189040",
   "metadata": {},
   "source": [
    "As in part 1, the extrapolated values for all the input rows are found and then summed; this is the answer to the problem!"
   ]
  },
  {
   "cell_type": "code",
   "execution_count": 70,
   "id": "95236012",
   "metadata": {},
   "outputs": [],
   "source": [
    "sum_values = sum([extrapolate_value(row) for row in input_list])"
   ]
  },
  {
   "cell_type": "code",
   "execution_count": 71,
   "id": "8a039052",
   "metadata": {},
   "outputs": [
    {
     "data": {
      "text/plain": [
       "1012"
      ]
     },
     "execution_count": 71,
     "metadata": {},
     "output_type": "execute_result"
    }
   ],
   "source": [
    "sum_values"
   ]
  }
 ],
 "metadata": {
  "kernelspec": {
   "display_name": "Python [conda env:aoc]",
   "language": "python",
   "name": "conda-env-aoc-py"
  },
  "language_info": {
   "codemirror_mode": {
    "name": "ipython",
    "version": 3
   },
   "file_extension": ".py",
   "mimetype": "text/x-python",
   "name": "python",
   "nbconvert_exporter": "python",
   "pygments_lexer": "ipython3",
   "version": "3.11.5"
  }
 },
 "nbformat": 4,
 "nbformat_minor": 5
}
