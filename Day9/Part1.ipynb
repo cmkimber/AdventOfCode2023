{
 "cells": [
  {
   "cell_type": "markdown",
   "id": "73331c6a",
   "metadata": {},
   "source": [
    "# Advent of Code 2023"
   ]
  },
  {
   "cell_type": "markdown",
   "id": "7e7681fd",
   "metadata": {},
   "source": [
    "## Day 9 -- Mirage Maintenance (Part 1)"
   ]
  },
  {
   "cell_type": "markdown",
   "id": "3335bbac",
   "metadata": {},
   "source": [
    "## Author: Chris Kimber"
   ]
  },
  {
   "cell_type": "markdown",
   "id": "6eb20e87",
   "metadata": {},
   "source": [
    "The instructions for this problem can be found at https://adventofcode.com/2023/day/9.\n",
    "\n",
    "Thanks to assorted users on the subreddit for giving some hints to try recursion for this. It's a programming approach that I struggle with a lot of the time (never learned formally etc.) and it was a good opportunity to learn more about how it worked by applying it in this problem.\n",
    "\n",
    "Boilerplate to load in the data, split it by line, convert each row to a sublist of integers."
   ]
  },
  {
   "cell_type": "code",
   "execution_count": 59,
   "id": "25aff9b8",
   "metadata": {},
   "outputs": [],
   "source": [
    "with open(\"input_example\", \"r\") as f:\n",
    "    input_file = f.read().splitlines()"
   ]
  },
  {
   "cell_type": "code",
   "execution_count": 60,
   "id": "1f251be6",
   "metadata": {},
   "outputs": [
    {
     "data": {
      "text/plain": [
       "['0 3 6 9 12 15', '1 3 6 10 15 21', '10 13 16 21 30 45']"
      ]
     },
     "execution_count": 60,
     "metadata": {},
     "output_type": "execute_result"
    }
   ],
   "source": [
    "input_file"
   ]
  },
  {
   "cell_type": "code",
   "execution_count": 61,
   "id": "dc3bae6f",
   "metadata": {},
   "outputs": [],
   "source": [
    "input_list = [x.split(\" \") for x in input_file]"
   ]
  },
  {
   "cell_type": "code",
   "execution_count": 62,
   "id": "0f0cc84d",
   "metadata": {},
   "outputs": [],
   "source": [
    "input_list = [[int(n) for n in sublist] for sublist in input_list]"
   ]
  },
  {
   "cell_type": "code",
   "execution_count": 63,
   "id": "0edd532d",
   "metadata": {},
   "outputs": [
    {
     "data": {
      "text/plain": [
       "[[0, 3, 6, 9, 12, 15], [1, 3, 6, 10, 15, 21], [10, 13, 16, 21, 30, 45]]"
      ]
     },
     "execution_count": 63,
     "metadata": {},
     "output_type": "execute_result"
    }
   ],
   "source": [
    "input_list"
   ]
  },
  {
   "cell_type": "markdown",
   "id": "44979d9a",
   "metadata": {},
   "source": [
    "The pairwise differences could be handled with indexing but this seemed perfect for the pairwise() function in itertools. It's there, so why not use it to simplify things?"
   ]
  },
  {
   "cell_type": "code",
   "execution_count": 64,
   "id": "d8a2c5d7",
   "metadata": {},
   "outputs": [],
   "source": [
    "from itertools import pairwise"
   ]
  },
  {
   "cell_type": "code",
   "execution_count": 65,
   "id": "4d66f7f7",
   "metadata": {},
   "outputs": [
    {
     "data": {
      "text/plain": [
       "[3, 3, 5, 9, 15]"
      ]
     },
     "execution_count": 65,
     "metadata": {},
     "output_type": "execute_result"
    }
   ],
   "source": [
    "[y-x for x,y in pairwise(input_list[2])]"
   ]
  },
  {
   "cell_type": "markdown",
   "id": "2ee79972",
   "metadata": {},
   "source": [
    "The following recursive function does all the extrapolation. There are multiple options for the stopping condition but here the one matching the problem writeup is used; all values in a row being 0. For each row, the next row is calculated using pairwise to iterate over pairs and take the difference between each value and the value previous. The extrapolated values are then calculated as the last value in the newest row added to the last value calculated in the row previous, until the value of the first row is extrapolated and returned by the function."
   ]
  },
  {
   "cell_type": "code",
   "execution_count": 80,
   "id": "7f807f84",
   "metadata": {},
   "outputs": [],
   "source": [
    "def extrapolate_value(row):\n",
    "    if all(n == 0 for n in row):\n",
    "        return 0\n",
    "    \n",
    "    next_row = [y-x for x, y in pairwise(row)]\n",
    "    print(next_row)\n",
    "    output = extrapolate_value(next_row)\n",
    "    print(output)\n",
    "    #print(row[-1])\n",
    "    return row[-1] + output"
   ]
  },
  {
   "cell_type": "code",
   "execution_count": 81,
   "id": "beea7d1a",
   "metadata": {
    "scrolled": false
   },
   "outputs": [
    {
     "name": "stdout",
     "output_type": "stream",
     "text": [
      "[3, 3, 5, 9, 15]\n",
      "[0, 2, 4, 6]\n",
      "[2, 2, 2]\n",
      "[0, 0]\n",
      "0\n",
      "2\n",
      "8\n",
      "23\n"
     ]
    },
    {
     "data": {
      "text/plain": [
       "68"
      ]
     },
     "execution_count": 81,
     "metadata": {},
     "output_type": "execute_result"
    }
   ],
   "source": [
    "extrapolate_value(input_list[2])"
   ]
  },
  {
   "cell_type": "code",
   "execution_count": 39,
   "id": "cacf728c",
   "metadata": {},
   "outputs": [
    {
     "data": {
      "text/plain": [
       "15"
      ]
     },
     "execution_count": 39,
     "metadata": {},
     "output_type": "execute_result"
    }
   ],
   "source": [
    "input_list[0][-1]"
   ]
  },
  {
   "cell_type": "markdown",
   "id": "ece91d46",
   "metadata": {},
   "source": [
    "The sum of the extrapolated values for each of the input rows is calculated after iterating through all the input rows; this is the answer to the problem!"
   ]
  },
  {
   "cell_type": "code",
   "execution_count": 57,
   "id": "4702ab20",
   "metadata": {},
   "outputs": [],
   "source": [
    "sum_values = sum([extrapolate_value(row) for row in input_list])"
   ]
  },
  {
   "cell_type": "code",
   "execution_count": 58,
   "id": "178e9bef",
   "metadata": {},
   "outputs": [
    {
     "data": {
      "text/plain": [
       "1992273652"
      ]
     },
     "execution_count": 58,
     "metadata": {},
     "output_type": "execute_result"
    }
   ],
   "source": [
    "sum_values"
   ]
  }
 ],
 "metadata": {
  "kernelspec": {
   "display_name": "Python [conda env:aoc]",
   "language": "python",
   "name": "conda-env-aoc-py"
  },
  "language_info": {
   "codemirror_mode": {
    "name": "ipython",
    "version": 3
   },
   "file_extension": ".py",
   "mimetype": "text/x-python",
   "name": "python",
   "nbconvert_exporter": "python",
   "pygments_lexer": "ipython3",
   "version": "3.11.5"
  }
 },
 "nbformat": 4,
 "nbformat_minor": 5
}
