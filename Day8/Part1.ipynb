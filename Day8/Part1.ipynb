{
 "cells": [
  {
   "cell_type": "markdown",
   "id": "b3a09f1d",
   "metadata": {},
   "source": [
    "# Advent of Code 2023"
   ]
  },
  {
   "cell_type": "markdown",
   "id": "2193897f",
   "metadata": {},
   "source": [
    "## Day 8 -- Haunted Wasteland (Part 1)"
   ]
  },
  {
   "cell_type": "markdown",
   "id": "209dbb25",
   "metadata": {},
   "source": [
    "## Author: Chris Kimber"
   ]
  },
  {
   "cell_type": "markdown",
   "id": "061a1ec9",
   "metadata": {},
   "source": [
    "The instructions for this problem can be found at https://adventofcode.com/2023/day/8.\n",
    "\n",
    "Boilerplate to read in the data and split by line. The first line contains the instructions. The second line is blank, so the maps begin on the 3rd line. A simple regex pulls out the 3 3-letter codes that give the starting position and the two possible moves from that position."
   ]
  },
  {
   "cell_type": "code",
   "execution_count": 66,
   "id": "8ae2529a",
   "metadata": {},
   "outputs": [],
   "source": [
    "with open(\"input\", \"r\") as f:\n",
    "    input_file = f.read().splitlines()"
   ]
  },
  {
   "cell_type": "code",
   "execution_count": 67,
   "id": "69372a05",
   "metadata": {},
   "outputs": [],
   "source": [
    "instructions = input_file[0]"
   ]
  },
  {
   "cell_type": "code",
   "execution_count": 68,
   "id": "64c58d69",
   "metadata": {},
   "outputs": [],
   "source": [
    "maps = input_file[2:]"
   ]
  },
  {
   "cell_type": "code",
   "execution_count": 69,
   "id": "eb3d5360",
   "metadata": {},
   "outputs": [],
   "source": [
    "import re"
   ]
  },
  {
   "cell_type": "code",
   "execution_count": 70,
   "id": "4aee7906",
   "metadata": {},
   "outputs": [],
   "source": [
    "maps = [re.findall(r\"([A-Z]+)\", x) for x in maps]"
   ]
  },
  {
   "cell_type": "code",
   "execution_count": 47,
   "id": "48731607",
   "metadata": {},
   "outputs": [
    {
     "data": {
      "text/plain": [
       "[['AAA', 'BBB', 'BBB'], ['BBB', 'AAA', 'ZZZ'], ['ZZZ', 'ZZZ', 'ZZZ']]"
      ]
     },
     "execution_count": 47,
     "metadata": {},
     "output_type": "execute_result"
    }
   ],
   "source": [
    "maps"
   ]
  },
  {
   "cell_type": "markdown",
   "id": "cdfbc8e4",
   "metadata": {},
   "source": [
    "The function below performs all of part 1. The counter tracks the number of steps it takes to move from AAA to ZZZ. The while loop ensures that the instructions will be looped over from the start if ZZZ has not yet been reached. The inner for loop locates the line in the map matching the value and then calculates where to move next in the map based on the instructions. The final counter is the answer to the problem!"
   ]
  },
  {
   "cell_type": "code",
   "execution_count": 75,
   "id": "e9b9919e",
   "metadata": {},
   "outputs": [],
   "source": [
    "def map_traverser(starting_value, instructions, maps):\n",
    "    value = starting_value\n",
    "    counter = 0\n",
    "    restart = True\n",
    "    while restart:\n",
    "        for x in instructions:\n",
    "            map_index = [i for i in range(0, len(maps)) if maps[i][0] == value]\n",
    "            map_index = map_index[0]\n",
    "            if x == \"L\":\n",
    "                new_value = maps[map_index][1]\n",
    "            else:\n",
    "                new_value = maps[map_index][2]\n",
    "            value = new_value\n",
    "            counter += 1\n",
    "            \n",
    "        restart = False\n",
    "            \n",
    "        if value != \"ZZZ\":\n",
    "                restart = True\n",
    "    return counter, value"
   ]
  },
  {
   "cell_type": "code",
   "execution_count": 77,
   "id": "e8d936bf",
   "metadata": {},
   "outputs": [],
   "source": [
    "counter, value = map_traverser(\"AAA\", instructions, maps)"
   ]
  },
  {
   "cell_type": "code",
   "execution_count": 78,
   "id": "08a9ea72",
   "metadata": {},
   "outputs": [
    {
     "name": "stdout",
     "output_type": "stream",
     "text": [
      "19783\n"
     ]
    }
   ],
   "source": [
    "print(counter)"
   ]
  }
 ],
 "metadata": {
  "kernelspec": {
   "display_name": "Python [conda env:aoc]",
   "language": "python",
   "name": "conda-env-aoc-py"
  },
  "language_info": {
   "codemirror_mode": {
    "name": "ipython",
    "version": 3
   },
   "file_extension": ".py",
   "mimetype": "text/x-python",
   "name": "python",
   "nbconvert_exporter": "python",
   "pygments_lexer": "ipython3",
   "version": "3.11.5"
  }
 },
 "nbformat": 4,
 "nbformat_minor": 5
}
