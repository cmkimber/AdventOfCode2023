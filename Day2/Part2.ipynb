{
 "cells": [
  {
   "cell_type": "markdown",
   "id": "a62bdbae",
   "metadata": {},
   "source": [
    "# Advent of Code 2023"
   ]
  },
  {
   "cell_type": "markdown",
   "id": "da333b20",
   "metadata": {},
   "source": [
    "## Day 2 -- Cube Conundrum (Part 2)"
   ]
  },
  {
   "cell_type": "markdown",
   "id": "e25e23e2",
   "metadata": {},
   "source": [
    "## Author: Chris Kimber"
   ]
  },
  {
   "cell_type": "markdown",
   "id": "b1915534",
   "metadata": {},
   "source": [
    "The instructions for this problem can be found at https://adventofcode.com/2023/day/2.\n",
    "\n",
    "Boilerplate reading-in of the data. Loading the re package to use regex for parsing the written tallies of cubes pulled during each draw from each game into a workable data structure.\n",
    "\n",
    "The parsing of data into a workable structure for part 2 is the same as that used in part 1; see the part 1 notebook for interpretation of this part of the code."
   ]
  },
  {
   "cell_type": "code",
   "execution_count": 32,
   "id": "08bfab79",
   "metadata": {},
   "outputs": [],
   "source": [
    "file = open(\"input\", \"r\")\n",
    "input_file = file.read()\n",
    "input_file = input_file.rstrip()"
   ]
  },
  {
   "cell_type": "code",
   "execution_count": 33,
   "id": "b34124f8",
   "metadata": {},
   "outputs": [],
   "source": [
    "import re"
   ]
  },
  {
   "cell_type": "code",
   "execution_count": 34,
   "id": "ff1741c0",
   "metadata": {},
   "outputs": [],
   "source": [
    "input_list = [(re.split(\"[:;]\", x))[1:] for x in input_file.split(\"\\n\")]"
   ]
  },
  {
   "cell_type": "code",
   "execution_count": 35,
   "id": "c1c4a5bc",
   "metadata": {},
   "outputs": [],
   "source": [
    "def draw_parser(draw):\n",
    "    colour_dict = {}\n",
    "    colours = draw.split(\",\")\n",
    "    for colour in colours:\n",
    "        matches = re.findall(r\"([0-9]+|[a-z]+)\", colour)\n",
    "        colour_dict[matches[1]] = int(matches[0])\n",
    "    return colour_dict"
   ]
  },
  {
   "cell_type": "code",
   "execution_count": 36,
   "id": "f6748c45",
   "metadata": {},
   "outputs": [],
   "source": [
    "parsed_games = [[draw_parser(draw) for draw in game] for game in input_list]"
   ]
  },
  {
   "cell_type": "markdown",
   "id": "bef5bc09",
   "metadata": {},
   "source": [
    "The goal of part 2 is to find the minimum number of cubes of each colour that can be used in each game, based on the number pulled across all draws in that game. This function initializes a dictionary for each game with 0 counts for each colour of cube. It then iterates through each draw in a game, checking whether the number drawn of each colour is greater than that already recorded in the dictionary and updating the dictionary in that case. The final dictionary contains the minimum of each colour possible for that game."
   ]
  },
  {
   "cell_type": "code",
   "execution_count": 37,
   "id": "3de7b5f8",
   "metadata": {},
   "outputs": [],
   "source": [
    "def find_minimum(game):\n",
    "    colour_counter = {'red': 0, 'green': 0, 'blue': 0}\n",
    "    for draw in game:\n",
    "        for key in draw:\n",
    "            if draw[key] > colour_counter[key]:\n",
    "                colour_counter[key] = draw[key]\n",
    "    return colour_counter"
   ]
  },
  {
   "cell_type": "code",
   "execution_count": 38,
   "id": "b68b6351",
   "metadata": {},
   "outputs": [],
   "source": [
    "test = find_minimum(parsed_games[0])"
   ]
  },
  {
   "cell_type": "markdown",
   "id": "261aa2b0",
   "metadata": {},
   "source": [
    "Solving the problem requires taking the product of the minimum possible number of each colour per game (the \"power\" of the set of cubes). To simplify this, the prod function from math is used. The function below iterates across all games in the parsed dataset, applies the function above to calculate minimum counts per game and then takes the product of this count."
   ]
  },
  {
   "cell_type": "code",
   "execution_count": 39,
   "id": "13c3437e",
   "metadata": {},
   "outputs": [],
   "source": [
    "from math import prod"
   ]
  },
  {
   "cell_type": "code",
   "execution_count": 40,
   "id": "0595114b",
   "metadata": {},
   "outputs": [],
   "source": [
    "def calc_product(all_games):\n",
    "    products = []\n",
    "    for game in all_games:\n",
    "        minimums = find_minimum(game)\n",
    "        product = prod(minimums.values())\n",
    "        products.append(product)\n",
    "    return products"
   ]
  },
  {
   "cell_type": "code",
   "execution_count": 41,
   "id": "f886470d",
   "metadata": {},
   "outputs": [],
   "source": [
    "products = calc_product(parsed_games)"
   ]
  },
  {
   "cell_type": "markdown",
   "id": "6e0f277b",
   "metadata": {},
   "source": [
    "The \"power\" of the minimum set of cubes from each game are then summed together. This is the answer to the problem!"
   ]
  },
  {
   "cell_type": "code",
   "execution_count": 42,
   "id": "39605373",
   "metadata": {},
   "outputs": [],
   "source": [
    "sum_products = sum(products)"
   ]
  },
  {
   "cell_type": "code",
   "execution_count": 43,
   "id": "e6c6b0a2",
   "metadata": {},
   "outputs": [
    {
     "name": "stdout",
     "output_type": "stream",
     "text": [
      "77607\n"
     ]
    }
   ],
   "source": [
    "print(sum_products)"
   ]
  }
 ],
 "metadata": {
  "kernelspec": {
   "display_name": "Python [conda env:aoc]",
   "language": "python",
   "name": "conda-env-aoc-py"
  },
  "language_info": {
   "codemirror_mode": {
    "name": "ipython",
    "version": 3
   },
   "file_extension": ".py",
   "mimetype": "text/x-python",
   "name": "python",
   "nbconvert_exporter": "python",
   "pygments_lexer": "ipython3",
   "version": "3.11.5"
  }
 },
 "nbformat": 4,
 "nbformat_minor": 5
}
