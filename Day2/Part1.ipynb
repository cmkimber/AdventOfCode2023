{
 "cells": [
  {
   "cell_type": "markdown",
   "id": "baa02603",
   "metadata": {},
   "source": [
    "# Advent of Code 2023"
   ]
  },
  {
   "cell_type": "markdown",
   "id": "0c1bd060",
   "metadata": {},
   "source": [
    "## Day 2 -- Cube Conundrum (Part 1)"
   ]
  },
  {
   "cell_type": "markdown",
   "id": "16bd7291",
   "metadata": {},
   "source": [
    "## Author: Chris Kimber"
   ]
  },
  {
   "cell_type": "markdown",
   "id": "a1ae1518",
   "metadata": {},
   "source": [
    "The instructions for this problem can be found at https://adventofcode.com/2023/day/2.\n",
    "\n",
    "Boilerplate reading-in of the data. Loading the re package to use regex for parsing the written tallies of cubes pulled during each draw from each game into a workable data structure."
   ]
  },
  {
   "cell_type": "code",
   "execution_count": 120,
   "id": "0afa5098",
   "metadata": {},
   "outputs": [],
   "source": [
    "file = open(\"input\", \"r\")\n",
    "input_file = file.read()\n",
    "input_file = input_file.rstrip()"
   ]
  },
  {
   "cell_type": "code",
   "execution_count": 121,
   "id": "209635a0",
   "metadata": {},
   "outputs": [],
   "source": [
    "import re"
   ]
  },
  {
   "cell_type": "markdown",
   "id": "e70d8f02",
   "metadata": {},
   "source": [
    "The data is parsed by splitting each line (game) into a separate list element and then create a sublist for each game that contains elements for each draw in that game. The element containing the \"Game #' is ommited as this is correlated with index."
   ]
  },
  {
   "cell_type": "code",
   "execution_count": 122,
   "id": "257e87b3",
   "metadata": {},
   "outputs": [],
   "source": [
    "input_list = [(re.split(\"[:;]\", x))[1:] for x in input_file.split(\"\\n\")]"
   ]
  },
  {
   "cell_type": "markdown",
   "id": "45f25ff7",
   "metadata": {},
   "source": [
    "This function parses the 'english-language' representation of the number of cubes of each colour into a dictionary with colour as key and number as value. For each draw within a game, an empty dictionary is initialized. Colours are split using the separator (comma). The regex captures the number (digits) followed by the colour (letters) and writes these to the dictionary as value and key respectively."
   ]
  },
  {
   "cell_type": "code",
   "execution_count": 123,
   "id": "62cbb51f",
   "metadata": {},
   "outputs": [],
   "source": [
    "def draw_parser(draw):\n",
    "    colour_dict = {}\n",
    "    colours = draw.split(\",\")\n",
    "    for colour in colours:\n",
    "        matches = re.findall(r\"([0-9]+|[a-z]+)\", colour)\n",
    "        colour_dict[matches[1]] = int(matches[0])\n",
    "    return colour_dict"
   ]
  },
  {
   "cell_type": "markdown",
   "id": "54b6386b",
   "metadata": {},
   "source": [
    "The parsing function above is then applied to each game, resulting in a list where each game is a sublist and each draw is a dictionary within the sublist containing counts for each colour of cube."
   ]
  },
  {
   "cell_type": "code",
   "execution_count": 124,
   "id": "02c304ca",
   "metadata": {
    "scrolled": true
   },
   "outputs": [],
   "source": [
    "parsed_games = [[draw_parser(draw) for draw in game] for game in input_list]"
   ]
  },
  {
   "cell_type": "markdown",
   "id": "babd6346",
   "metadata": {},
   "source": [
    "The objective is to find out which games are 'possible' given the number of cubes of each colour that the game has been loaded with in 'reality'. This information is also saved in its own dictionary."
   ]
  },
  {
   "cell_type": "code",
   "execution_count": 125,
   "id": "ef9aa90c",
   "metadata": {},
   "outputs": [],
   "source": [
    "reality_dict = {'red': 12, 'green': 13, 'blue': 14}"
   ]
  },
  {
   "cell_type": "markdown",
   "id": "f29ff985",
   "metadata": {},
   "source": [
    "This function compares the number of cubes of each colour pulled in each draw to the number that 'actually' exist to determine if the game is 'possible'. A counter is used to track the number of impossible draws. Each time more cubes of a colour are drawn within in a draw than are supposed to exist, the counter increments by 1. \n",
    "\n",
    "While this counter is actually tracking colours rather than draws (so the counter can increment by more than 1 per draw), the objective is to determine whether or not a game is possible. As a game can only be possible if there is no single colour in any draw that exceeds the possible count, any counter value other than 0 means the whole game is impossible."
   ]
  },
  {
   "cell_type": "code",
   "execution_count": 126,
   "id": "ceb0adb2",
   "metadata": {},
   "outputs": [],
   "source": [
    "def game_checker(game):\n",
    "    draw_counter = 0\n",
    "    for draw in game:\n",
    "        for key in draw:\n",
    "            if draw[key] > reality_dict[key]:\n",
    "                draw_counter += 1\n",
    "    return draw_counter"
   ]
  },
  {
   "cell_type": "markdown",
   "id": "574ee1e9",
   "metadata": {},
   "source": [
    "This function identifies the indices of all possible games. For each game, it applies the function above; if the counter for that game is 0 then all draws were possible and the number of that game is recorded. Note that index+1 is used because the games were numbered starting at 1 while the list is 0-indexed."
   ]
  },
  {
   "cell_type": "code",
   "execution_count": 127,
   "id": "cfe88962",
   "metadata": {},
   "outputs": [],
   "source": [
    "def wrapper(all_games):\n",
    "    possible_games = []\n",
    "    for index, game in enumerate(all_games):\n",
    "        draw_counter = game_checker(game)\n",
    "        if draw_counter == 0:\n",
    "            possible_games.append(index+1)\n",
    "    return possible_games"
   ]
  },
  {
   "cell_type": "markdown",
   "id": "cd2c476a",
   "metadata": {},
   "source": [
    "The wrapper function is then applied to the list of counts for each game parsed as dictionaries. The sum of the identifying numbers of the possible games is calcluated, and this is the solution to the problem!"
   ]
  },
  {
   "cell_type": "code",
   "execution_count": 128,
   "id": "2bdaa7c7",
   "metadata": {},
   "outputs": [],
   "source": [
    "possible_games = wrapper2(parsed_games)"
   ]
  },
  {
   "cell_type": "code",
   "execution_count": 129,
   "id": "8b22ec49",
   "metadata": {},
   "outputs": [],
   "source": [
    "sum_possible_games = sum(possible_games)"
   ]
  },
  {
   "cell_type": "code",
   "execution_count": 130,
   "id": "7734d53b",
   "metadata": {},
   "outputs": [
    {
     "name": "stdout",
     "output_type": "stream",
     "text": [
      "2679\n"
     ]
    }
   ],
   "source": [
    "print(sum_possible_games)"
   ]
  }
 ],
 "metadata": {
  "kernelspec": {
   "display_name": "Python [conda env:aoc]",
   "language": "python",
   "name": "conda-env-aoc-py"
  },
  "language_info": {
   "codemirror_mode": {
    "name": "ipython",
    "version": 3
   },
   "file_extension": ".py",
   "mimetype": "text/x-python",
   "name": "python",
   "nbconvert_exporter": "python",
   "pygments_lexer": "ipython3",
   "version": "3.11.5"
  }
 },
 "nbformat": 4,
 "nbformat_minor": 5
}
