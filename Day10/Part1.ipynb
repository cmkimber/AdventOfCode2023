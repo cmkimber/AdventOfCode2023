{
 "cells": [
  {
   "cell_type": "markdown",
   "id": "bd21f7e7",
   "metadata": {},
   "source": [
    "# Advent of Code 2023"
   ]
  },
  {
   "cell_type": "markdown",
   "id": "3361250b",
   "metadata": {},
   "source": [
    "## Day 10 -- Pipe Maze (Part 1)"
   ]
  },
  {
   "cell_type": "markdown",
   "id": "9ee9f535",
   "metadata": {},
   "source": [
    "## Author: Chris Kimber"
   ]
  },
  {
   "cell_type": "markdown",
   "id": "aadad15e",
   "metadata": {},
   "source": [
    "The instructions for this puzzle can be found at https://adventofcode.com/2023/day/10.\n",
    "\n",
    "This part is effectively pathfinding, and is something I have no experience with. I looked into the topic a bit during last year's AoC and read about BFS then but I didn't have time to try implementing it then. My solution here uses what is essentially a modified BFS to follow a loop path of \"pipes\". I used a couple of tutorials on the net for inspiration and did glance at a few solutions on the AoC subreddit, but the solution is my own (and much less elegant than some I saw).\n",
    "\n",
    "The beginning is just boilerplate to load the data. By splitting each line, the resulting list is effectively a 2D array where list elements are rows and positions within the elements are columns."
   ]
  },
  {
   "cell_type": "code",
   "execution_count": 112,
   "id": "42b05317",
   "metadata": {},
   "outputs": [],
   "source": [
    "with open(\"input\", \"r\") as f:\n",
    "    input_grid = f.readlines()"
   ]
  },
  {
   "cell_type": "markdown",
   "id": "d9bec434",
   "metadata": {},
   "source": [
    "The first dictionary holds the map between the cardinal directions and the change in row-column indices on the array that correspond to moving along the array in that direction."
   ]
  },
  {
   "cell_type": "code",
   "execution_count": 100,
   "id": "411eb349",
   "metadata": {},
   "outputs": [],
   "source": [
    "directions = {\"N\": (-1, 0), \"E\": (0, 1), \"S\": (1, 0), \"W\": (0, -1)}"
   ]
  },
  {
   "cell_type": "code",
   "execution_count": 101,
   "id": "7e1bb9a0",
   "metadata": {},
   "outputs": [],
   "source": [
    "pipes = {\n",
    "    \"|\": (\"N\", \"S\"),\n",
    "    \"-\": (\"E\", \"W\"),\n",
    "    \"L\": (\"N\", \"E\"),\n",
    "    \"J\": (\"N\", \"W\"),\n",
    "    \"7\": (\"S\" ,\"W\"),\n",
    "    \"F\": (\"S\", \"E\"),\n",
    "    \".\": (),\n",
    "    \"S\": (\"N\", \"E\", \"W\", \"S\")\n",
    "}"
   ]
  },
  {
   "cell_type": "markdown",
   "id": "e5f81ed6",
   "metadata": {},
   "source": [
    "The starting position in the loop is given by the special character \"S\"; this saves the start indices. "
   ]
  },
  {
   "cell_type": "code",
   "execution_count": 113,
   "id": "00f92501",
   "metadata": {},
   "outputs": [],
   "source": [
    "for i in range(len(input_grid)):\n",
    "    for j in range(len(input_grid[i])):\n",
    "        if input_grid[i][j] == \"S\":\n",
    "            start = (i, j)"
   ]
  },
  {
   "cell_type": "markdown",
   "id": "459b7a72",
   "metadata": {},
   "source": [
    "I chose to break the traversal of the loop up into two steps. The first step is to determine how to leave the start position, which has replaced an ordinary \"pipe\" in the loop. The shape of the pipe is thus no longer given explicitly, but it can be inferred from the pipes around it. Some solutions I saw dealt with this by manually inspecting the input data and either replacing the corresponding pipe in the input or hardcoding the first move. \n",
    "\n",
    "I chose to instead calculate the first move based on the surrounding pipes. As it is a loop, one can move in either direction so the first direction found in the if/else approach is used. The opposite direction returns the same result in the end."
   ]
  },
  {
   "cell_type": "code",
   "execution_count": 123,
   "id": "6cbf27fe",
   "metadata": {},
   "outputs": [],
   "source": [
    "visited_pipes = []"
   ]
  },
  {
   "cell_type": "code",
   "execution_count": 124,
   "id": "fd4f0a1e",
   "metadata": {},
   "outputs": [],
   "source": [
    "queue = []"
   ]
  },
  {
   "cell_type": "code",
   "execution_count": 125,
   "id": "13476348",
   "metadata": {},
   "outputs": [],
   "source": [
    "i, j = start[0], start[1]\n",
    "if input_grid[i-1][j] in [\"|\", \"7\", \"F\"]:\n",
    "    first_direction = \"N\"\n",
    "elif input_grid[i+1][j] in [\"|\", \"L\", \"J\"]:\n",
    "    first_direction = \"S\"\n",
    "elif input_grid[i][j+1] in [\"-\", \"L\", \"F\"]:\n",
    "    first_direction = \"E\"\n",
    "else:\n",
    "    first_direction = \"W\"\n",
    "move = directions[first_direction]\n",
    "new_i, new_j = i + move[0], j + move[1]\n",
    "visited_pipes.append(start)\n",
    "queue.append((new_i, new_j))"
   ]
  },
  {
   "cell_type": "markdown",
   "id": "4417e83f",
   "metadata": {},
   "source": [
    "After determining how to leave the start tile, the rest of the route through the loop is discovered using this BFS-type approach. One can only move two ways at any position, governed by the shape of the pipe. By avoiding already visited positions, this keeps all motion 'forward' through the loop and stops when the loop returns to the start, which is the first element in the list of visited pipes. "
   ]
  },
  {
   "cell_type": "code",
   "execution_count": 127,
   "id": "59ac067e",
   "metadata": {
    "scrolled": true
   },
   "outputs": [],
   "source": [
    "while queue:\n",
    "    curr = queue.pop(0)\n",
    "    i, j = curr[0], curr[1]\n",
    "    curr_pipe = input_grid[i][j]\n",
    "    for direction in pipes[curr_pipe]:\n",
    "        move = directions[direction]\n",
    "        new_i, new_j = i + move[0], j + move[1]\n",
    "        if (new_i, new_j) in visited_pipes:\n",
    "            continue\n",
    "        else:\n",
    "            visited_pipes.append(curr)\n",
    "            queue.append((new_i, new_j))\n",
    "            break"
   ]
  },
  {
   "cell_type": "markdown",
   "id": "89e40492",
   "metadata": {},
   "source": [
    "The goal is to find the furthest point in the loop from the start, which will be the halfway point in the loop. If there are an even number of pipes, two different points will be the 'furthest' but if there is an odd, there is a single furthest point. This can be calculated by ceiling division of the length of the list of pipes, here represented as floor division using a negation of the divisor to \"invert the floor\" to get the ceiling and a negation of the quotient to make the value positive. This is the answer to the problem!"
   ]
  },
  {
   "cell_type": "code",
   "execution_count": 128,
   "id": "59f10282",
   "metadata": {},
   "outputs": [],
   "source": [
    "furthest_point = -(len(visited_pipes)//-2)"
   ]
  },
  {
   "cell_type": "code",
   "execution_count": 129,
   "id": "5ffd15c9",
   "metadata": {},
   "outputs": [
    {
     "data": {
      "text/plain": [
       "6828"
      ]
     },
     "execution_count": 129,
     "metadata": {},
     "output_type": "execute_result"
    }
   ],
   "source": [
    "furthest_point"
   ]
  }
 ],
 "metadata": {
  "kernelspec": {
   "display_name": "Python [conda env:aoc]",
   "language": "python",
   "name": "conda-env-aoc-py"
  },
  "language_info": {
   "codemirror_mode": {
    "name": "ipython",
    "version": 3
   },
   "file_extension": ".py",
   "mimetype": "text/x-python",
   "name": "python",
   "nbconvert_exporter": "python",
   "pygments_lexer": "ipython3",
   "version": "3.11.5"
  }
 },
 "nbformat": 4,
 "nbformat_minor": 5
}
