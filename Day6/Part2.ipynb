{
 "cells": [
  {
   "cell_type": "markdown",
   "id": "0a8d1de9",
   "metadata": {},
   "source": [
    "# Advent of Code 2023"
   ]
  },
  {
   "cell_type": "markdown",
   "id": "7dc28d50",
   "metadata": {},
   "source": [
    "## Day 6 -- Wait For It (Part 2)"
   ]
  },
  {
   "cell_type": "markdown",
   "id": "e56bdd77",
   "metadata": {},
   "source": [
    "## Author: Chris Kimber"
   ]
  },
  {
   "cell_type": "markdown",
   "id": "f3bf2d2d",
   "metadata": {},
   "source": [
    "The instructions for this problem can be found at https://adventofcode.com/2023/day/6.\n",
    "\n",
    "The real difference between part 1 and part 2 comes in the parsing of the input data. In this case, once the data is read in, the 4 numbers provided for time and for distance have to be concatenated together into a single number each for time and distance."
   ]
  },
  {
   "cell_type": "code",
   "execution_count": 1,
   "id": "5f2baa12",
   "metadata": {},
   "outputs": [],
   "source": [
    "with open(\"input\", \"r\") as f:\n",
    "    input_file = f.read().splitlines()"
   ]
  },
  {
   "cell_type": "code",
   "execution_count": 2,
   "id": "55a45e3b",
   "metadata": {},
   "outputs": [],
   "source": [
    "import re"
   ]
  },
  {
   "cell_type": "code",
   "execution_count": 3,
   "id": "a15319c5",
   "metadata": {},
   "outputs": [],
   "source": [
    "input_list = [re.findall(r\"(\\d+)\", x) for x in input_file]"
   ]
  },
  {
   "cell_type": "code",
   "execution_count": 16,
   "id": "d0e1527a",
   "metadata": {},
   "outputs": [],
   "source": [
    "input_list = [int(\"\".join([number for number in sublist])) for sublist in input_list]"
   ]
  },
  {
   "cell_type": "markdown",
   "id": "aabe5cdd",
   "metadata": {},
   "source": [
    "These 3 functions are the same as in part 1."
   ]
  },
  {
   "cell_type": "code",
   "execution_count": 11,
   "id": "0144f91a",
   "metadata": {},
   "outputs": [],
   "source": [
    "def find_floor(t, d):\n",
    "    for x in range(0, t+1):\n",
    "        if (t-x)*x > d:\n",
    "            x1 = x\n",
    "            break\n",
    "    return x1"
   ]
  },
  {
   "cell_type": "code",
   "execution_count": 12,
   "id": "0ec9cb27",
   "metadata": {},
   "outputs": [],
   "source": [
    "def find_ceiling(t, d):\n",
    "    for x in reversed(range(0, t+1)):\n",
    "        if (t-x)*x > d:\n",
    "            x2 = x\n",
    "            break\n",
    "    return x2"
   ]
  },
  {
   "cell_type": "code",
   "execution_count": 13,
   "id": "e50d6bfc",
   "metadata": {},
   "outputs": [],
   "source": [
    "def count_ways(x1, x2):\n",
    "    ways = x2-x1 + 1\n",
    "    return ways"
   ]
  },
  {
   "cell_type": "markdown",
   "id": "6cf25c4c",
   "metadata": {},
   "source": [
    "Unlike for part 1, there is no for loop necessary for just a single race. The ways in which this race can be won are calculated; this is the answer to the problem!"
   ]
  },
  {
   "cell_type": "code",
   "execution_count": 17,
   "id": "4cc5cc0e",
   "metadata": {},
   "outputs": [
    {
     "name": "stdout",
     "output_type": "stream",
     "text": [
      "34934171\n"
     ]
    }
   ],
   "source": [
    "x1 = find_floor(input_list[0], input_list[1])\n",
    "x2 = find_ceiling(input_list[0], input_list[1])\n",
    "ways = count_ways(x1, x2)\n",
    "print(ways)"
   ]
  }
 ],
 "metadata": {
  "kernelspec": {
   "display_name": "Python [conda env:aoc]",
   "language": "python",
   "name": "conda-env-aoc-py"
  },
  "language_info": {
   "codemirror_mode": {
    "name": "ipython",
    "version": 3
   },
   "file_extension": ".py",
   "mimetype": "text/x-python",
   "name": "python",
   "nbconvert_exporter": "python",
   "pygments_lexer": "ipython3",
   "version": "3.11.5"
  }
 },
 "nbformat": 4,
 "nbformat_minor": 5
}
