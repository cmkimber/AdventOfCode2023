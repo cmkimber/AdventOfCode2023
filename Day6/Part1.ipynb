{
 "cells": [
  {
   "cell_type": "markdown",
   "id": "1c044aeb",
   "metadata": {},
   "source": [
    "# Advent of Code 2023"
   ]
  },
  {
   "cell_type": "markdown",
   "id": "e92d4414",
   "metadata": {},
   "source": [
    "## Day 6 -- Wait For It (Part 1)"
   ]
  },
  {
   "cell_type": "markdown",
   "id": "b7b58d4c",
   "metadata": {},
   "source": [
    "## Author: Chris Kimber"
   ]
  },
  {
   "cell_type": "markdown",
   "id": "193108fe",
   "metadata": {},
   "source": [
    "The instructions for this problem can be found at https://adventofcode.com/2023/day/6.\n",
    "\n",
    "The code for reading in and parsing the data is fairly boilerplate. The time and distance for the race are on separate matching lines. A simple regex pulls the 4 values out for each variable and then these are converted to integers."
   ]
  },
  {
   "cell_type": "code",
   "execution_count": 49,
   "id": "7f7fc5e2",
   "metadata": {},
   "outputs": [],
   "source": [
    "with open(\"input\", \"r\") as f:\n",
    "    input_file = f.read().splitlines()"
   ]
  },
  {
   "cell_type": "code",
   "execution_count": 51,
   "id": "d44c7b54",
   "metadata": {},
   "outputs": [],
   "source": [
    "import re"
   ]
  },
  {
   "cell_type": "code",
   "execution_count": 52,
   "id": "32fe2ff0",
   "metadata": {},
   "outputs": [],
   "source": [
    "input_list = [re.findall(r\"(\\d+)\", x) for x in input_file]"
   ]
  },
  {
   "cell_type": "code",
   "execution_count": 54,
   "id": "c53d3ae2",
   "metadata": {},
   "outputs": [],
   "source": [
    "input_list = [[int(number) for number in x] for x in input_list]"
   ]
  },
  {
   "cell_type": "markdown",
   "id": "2f118af5",
   "metadata": {},
   "source": [
    "In this factoring, t = time total, x = speed (equivalent to the time button held), (t-x) = the time you're travelling at the speed (the total time - time button held) and d = distance travelled. The equation to solve for is d > (t-x) * x. It is in these cases that the distance covered is longer than the record distance.\n",
    "\n",
    "The first function finds the lowest value of x that produces a distance greater than the record, while the second function finds the highest value. The third function calculates the total number of values (that produce a record distance), which is the range from x1-x2 including those values."
   ]
  },
  {
   "cell_type": "code",
   "execution_count": 55,
   "id": "1e36eec3",
   "metadata": {},
   "outputs": [],
   "source": [
    "def find_floor(t, d):\n",
    "    for x in range(0, t+1):\n",
    "        if (t-x)*x > d:\n",
    "            x1 = x\n",
    "            break\n",
    "    return x1"
   ]
  },
  {
   "cell_type": "code",
   "execution_count": 57,
   "id": "058a603e",
   "metadata": {},
   "outputs": [],
   "source": [
    "def find_ceiling(t, d):\n",
    "    for x in reversed(range(0, t+1)):\n",
    "        if (t-x)*x > d:\n",
    "            x2 = x\n",
    "            break\n",
    "    return x2"
   ]
  },
  {
   "cell_type": "code",
   "execution_count": 58,
   "id": "375ef1de",
   "metadata": {},
   "outputs": [],
   "source": [
    "def count_ways(x1, x2):\n",
    "    ways = x2-x1 + 1\n",
    "    return ways"
   ]
  },
  {
   "cell_type": "code",
   "execution_count": 63,
   "id": "5afa77d5",
   "metadata": {},
   "outputs": [],
   "source": [
    "ways_per_race = []\n",
    "for i in range(0,len(input_list[0])):\n",
    "    x1 = find_floor(input_list[0][i], input_list[1][i])\n",
    "    x2 = find_ceiling(input_list[0][i], input_list[1][i])\n",
    "    ways = count_ways(x1, x2)\n",
    "    ways_per_race.append(ways)"
   ]
  },
  {
   "cell_type": "markdown",
   "id": "0067bccf",
   "metadata": {},
   "source": [
    "Once the ways in which each race can be won are calculated, the product of these 4 numbers is then computed; this is the answer to the problem!"
   ]
  },
  {
   "cell_type": "code",
   "execution_count": 65,
   "id": "816d6754",
   "metadata": {},
   "outputs": [],
   "source": [
    "from math import prod"
   ]
  },
  {
   "cell_type": "code",
   "execution_count": 66,
   "id": "7a3c913e",
   "metadata": {},
   "outputs": [],
   "source": [
    "prod_ways_per_race = prod(ways_per_race)"
   ]
  },
  {
   "cell_type": "code",
   "execution_count": 67,
   "id": "893645f5",
   "metadata": {},
   "outputs": [
    {
     "name": "stdout",
     "output_type": "stream",
     "text": [
      "2065338\n"
     ]
    }
   ],
   "source": [
    "print(prod(ways_per_race))"
   ]
  }
 ],
 "metadata": {
  "kernelspec": {
   "display_name": "Python [conda env:aoc]",
   "language": "python",
   "name": "conda-env-aoc-py"
  },
  "language_info": {
   "codemirror_mode": {
    "name": "ipython",
    "version": 3
   },
   "file_extension": ".py",
   "mimetype": "text/x-python",
   "name": "python",
   "nbconvert_exporter": "python",
   "pygments_lexer": "ipython3",
   "version": "3.11.5"
  }
 },
 "nbformat": 4,
 "nbformat_minor": 5
}
