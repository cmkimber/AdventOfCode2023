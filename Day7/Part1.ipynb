{
 "cells": [
  {
   "cell_type": "markdown",
   "id": "6bc30f86",
   "metadata": {},
   "source": [
    "# Advent of Code 2023"
   ]
  },
  {
   "cell_type": "markdown",
   "id": "b35e6656",
   "metadata": {},
   "source": [
    "## Day 7 -- Camel Cards (Part 1)"
   ]
  },
  {
   "cell_type": "markdown",
   "id": "db4f7f78",
   "metadata": {},
   "source": [
    "## Author: Chris Kimber"
   ]
  },
  {
   "cell_type": "markdown",
   "id": "7af38a02",
   "metadata": {},
   "source": [
    " The instructions for this problem can be found at https://adventofcode.com/2023/day/7.\n",
    " \n",
    " Boilerplate for reading in the data, which produces a line for each card containing the hand and corresponding bid."
   ]
  },
  {
   "cell_type": "code",
   "execution_count": 159,
   "id": "0de71c81",
   "metadata": {},
   "outputs": [],
   "source": [
    "with open(\"input\", \"r\") as f:\n",
    "    input_list = f.read().splitlines()"
   ]
  },
  {
   "cell_type": "markdown",
   "id": "6c0034fd",
   "metadata": {},
   "source": [
    "The hand and bid for each card are then split and the bid converted to an integer for later math."
   ]
  },
  {
   "cell_type": "code",
   "execution_count": 160,
   "id": "847b716c",
   "metadata": {},
   "outputs": [],
   "source": [
    "input_list = [x.split(\" \") for x in input_list]"
   ]
  },
  {
   "cell_type": "code",
   "execution_count": 161,
   "id": "c4dea0fc",
   "metadata": {},
   "outputs": [],
   "source": [
    "for i in input_list:\n",
    "    i[1] = int(i[1])"
   ]
  },
  {
   "cell_type": "markdown",
   "id": "c1c8a9d2",
   "metadata": {},
   "source": [
    "This dictionary contains the ranks of each card individually in ascending order from the weakest card. This is how the ranking in the problem takes place at the hand level (weakest hand is rank 1 etc.)."
   ]
  },
  {
   "cell_type": "code",
   "execution_count": 162,
   "id": "d188db3e",
   "metadata": {},
   "outputs": [],
   "source": [
    "c_rank = {\"A\": 12, \"K\": 11, \"Q\": 10, \"J\": 9, \"T\": 8, \"9\": 7, \"8\": 6, \"7\": 5, \"6\": 4, \"5\": 3, \"4\": 2, \"3\": 1, \"2\": 0}"
   ]
  },
  {
   "cell_type": "markdown",
   "id": "eb878a2c",
   "metadata": {},
   "source": [
    "The Counter function is used to conveniently turn each hand into a set of cards and count the numbers of each card."
   ]
  },
  {
   "cell_type": "code",
   "execution_count": 163,
   "id": "3808d0d9",
   "metadata": {},
   "outputs": [],
   "source": [
    "from collections import Counter"
   ]
  },
  {
   "cell_type": "markdown",
   "id": "6b8187e9",
   "metadata": {},
   "source": [
    "The primary ordering of hands is based on their type, which is effectively determined by how many cards of the same type are in the hand. This function ranks hands based on their type, where the weakest hand type (one of a kind) is given rank 0 and the strongest rank 6."
   ]
  },
  {
   "cell_type": "code",
   "execution_count": 164,
   "id": "2b909699",
   "metadata": {},
   "outputs": [],
   "source": [
    "def hand_scorer(hand):\n",
    "    c = Counter(hand)\n",
    "    if c.most_common()[0][1] == 5:\n",
    "        hrank = 6 # five of a kind\n",
    "    elif c.most_common()[0][1] == 4:\n",
    "        hrank = 5 # four of a kind\n",
    "    elif c.most_common()[0][1] == 3:\n",
    "        if c.most_common()[1][1] == 2:\n",
    "            hrank = 4 # full house\n",
    "        else:\n",
    "            hrank = 3 # three of a kind\n",
    "    elif c.most_common()[0][1] == 2:\n",
    "        if c.most_common()[1][1] == 2:\n",
    "            hrank = 2 # two pair\n",
    "        else:\n",
    "            hrank = 1 # one pair\n",
    "    else:\n",
    "        hrank = 0 # high card\n",
    "    return hrank"
   ]
  },
  {
   "cell_type": "markdown",
   "id": "673c03d6",
   "metadata": {},
   "source": [
    "The function above is then applied to each hand. This adds a primary rank to each hand."
   ]
  },
  {
   "cell_type": "code",
   "execution_count": 165,
   "id": "e3434e31",
   "metadata": {},
   "outputs": [],
   "source": [
    "for i in input_list:\n",
    "    hrank = hand_scorer(i[0])\n",
    "    i.append(hrank)"
   ]
  },
  {
   "cell_type": "markdown",
   "id": "74896a06",
   "metadata": {},
   "source": [
    "The secondary ordering rule, which takes effect when hands are of the same type, is to compare the ranks of individual cards. The value of the first card is compared, if these are identical then the value of the second is compared, etc.\n",
    "\n",
    "The function below iterates through each card in the hand and ranks them based on the rank of individual cards given in the dictionary encoded earlier. The rank of each card is appended, in order, to the end of the hand to allow for subsequent sorting."
   ]
  },
  {
   "cell_type": "code",
   "execution_count": 166,
   "id": "f3265820",
   "metadata": {},
   "outputs": [],
   "source": [
    "def card_comparer(hand):\n",
    "    for i in hand[0]:\n",
    "        hand.append(c_rank[i])\n",
    "    return hand"
   ]
  },
  {
   "cell_type": "markdown",
   "id": "6a8ebb10",
   "metadata": {},
   "source": [
    "The function above is then applied to all the hands. The result is a list containing a sublist for each hand. The hand sublist contains the following information: the cards in the hand, the bid, the primary rank (based on hand type), and 5 secondary ranks for the 5 cards in hand in order."
   ]
  },
  {
   "cell_type": "code",
   "execution_count": 167,
   "id": "9ccde09c",
   "metadata": {},
   "outputs": [],
   "source": [
    "for i in input_list:\n",
    "    card_comparer(i)"
   ]
  },
  {
   "cell_type": "markdown",
   "id": "d4ba7b9e",
   "metadata": {},
   "source": [
    "To sort based on the primary and secondary ranks, the itemgetter function is used as a key. This function allows an item in the hand sublist to be used as the key for sorting. If multiple items are provided, they're used for multiple levels of sorting. As such, the hands are then sorted first on the primary rank (hand type) and then on the secondary ranks in order, starting with the first card and proceeding through the cards if the ranks of the previous card are identical."
   ]
  },
  {
   "cell_type": "code",
   "execution_count": 168,
   "id": "40d7f8ba",
   "metadata": {},
   "outputs": [],
   "source": [
    "from operator import itemgetter"
   ]
  },
  {
   "cell_type": "code",
   "execution_count": 169,
   "id": "072e8df4",
   "metadata": {},
   "outputs": [],
   "source": [
    "sorted_list = sorted(input_list, key = itemgetter(2,3,4,5,6,7))"
   ]
  },
  {
   "cell_type": "markdown",
   "id": "30725d97",
   "metadata": {},
   "source": [
    "With a sorted list of all hands, and ranks given in an ascending fashion from 1 for the weakest hand, the rank of any hand can be calculated as (index in sorted list + 1). To calculate the winnings of each hand, the rank and bid are multiplied together. The total winnings are calculated by summing the winnings of each hand; this is the answer to the problem!"
   ]
  },
  {
   "cell_type": "code",
   "execution_count": 170,
   "id": "f1854a46",
   "metadata": {},
   "outputs": [],
   "source": [
    "winnings = []\n",
    "for i,hand in enumerate(sorted_list):\n",
    "    rank = i+1\n",
    "    bid = hand[1]\n",
    "    winnings.append(rank*bid)"
   ]
  },
  {
   "cell_type": "code",
   "execution_count": 171,
   "id": "924779eb",
   "metadata": {},
   "outputs": [],
   "source": [
    "total_winnings = sum(winnings)"
   ]
  },
  {
   "cell_type": "code",
   "execution_count": 172,
   "id": "7ef56b09",
   "metadata": {},
   "outputs": [
    {
     "name": "stdout",
     "output_type": "stream",
     "text": [
      "250232501\n"
     ]
    }
   ],
   "source": [
    "print(total_winnings)"
   ]
  }
 ],
 "metadata": {
  "kernelspec": {
   "display_name": "Python [conda env:aoc]",
   "language": "python",
   "name": "conda-env-aoc-py"
  },
  "language_info": {
   "codemirror_mode": {
    "name": "ipython",
    "version": 3
   },
   "file_extension": ".py",
   "mimetype": "text/x-python",
   "name": "python",
   "nbconvert_exporter": "python",
   "pygments_lexer": "ipython3",
   "version": "3.11.5"
  }
 },
 "nbformat": 4,
 "nbformat_minor": 5
}
