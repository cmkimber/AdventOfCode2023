{
 "cells": [
  {
   "cell_type": "markdown",
   "id": "203dba9b",
   "metadata": {},
   "source": [
    "# Advent of Code 2023"
   ]
  },
  {
   "cell_type": "markdown",
   "id": "f9c6f3b5",
   "metadata": {},
   "source": [
    "## Day 7 -- Camel Cards (Part 2)"
   ]
  },
  {
   "cell_type": "markdown",
   "id": "c663d228",
   "metadata": {},
   "source": [
    "## Author: Chris Kimber"
   ]
  },
  {
   "cell_type": "markdown",
   "id": "7a0910d2",
   "metadata": {},
   "source": [
    "The instructions for this problem can be found at https://adventofcode.com/2023/day/7.\n",
    "\n",
    "Thanks to u/LxsterGames on the AoC subreddit for posting a sample input that tested a number of edge cases the provided sample input did not. Helped me debug something!\n",
    "\n",
    "The loading and parsing of the data is the same as it was in part 1."
   ]
  },
  {
   "cell_type": "code",
   "execution_count": 248,
   "id": "0a6b998d",
   "metadata": {},
   "outputs": [],
   "source": [
    "with open(\"input\", \"r\") as f:\n",
    "    input_list = f.read().splitlines()"
   ]
  },
  {
   "cell_type": "code",
   "execution_count": 249,
   "id": "3954a72e",
   "metadata": {},
   "outputs": [],
   "source": [
    "input_list = [x.split(\" \") for x in input_list]"
   ]
  },
  {
   "cell_type": "code",
   "execution_count": 250,
   "id": "b2d8152d",
   "metadata": {},
   "outputs": [],
   "source": [
    "for i in input_list:\n",
    "    i[1] = int(i[1])"
   ]
  },
  {
   "cell_type": "markdown",
   "id": "338266bc",
   "metadata": {},
   "source": [
    "The ranking of individual cards is changed slightly in part 2, so that J is now the lowest-ranked card."
   ]
  },
  {
   "cell_type": "code",
   "execution_count": 231,
   "id": "d7b9dc86",
   "metadata": {},
   "outputs": [],
   "source": [
    "c_rank = {\"A\": 12, \"K\": 11, \"Q\": 10, \"J\": 0, \"T\": 9, \"9\": 8, \"8\": 7, \"7\": 6, \"6\": 5, \"5\": 4, \"4\": 3, \"3\": 2, \"2\": 1}"
   ]
  },
  {
   "cell_type": "markdown",
   "id": "c51d99da",
   "metadata": {},
   "source": [
    "There are three main cases that occur when J is wild. The jack_checker() function checks which of these 3 cases a hand matches and proceeds accordingly.\n",
    "\n",
    "The first case is if there are no J in a hand: in this case, a similar hand ranking function to part 1 is used with minor adjustments to reflect the fact that it now is meant to run within wrapper functions that handle the wildcard nature of J. This is hand_scorer(). The same function is also used after the transformations performed by the following two functions to actually rank the hands.\n",
    "\n",
    "The second case is if J is the most common card: in this case, the second most common card's count is added to J. This is always the move that gives the highest hand ranking when J is the most common card. If the hand is already 5 J, this can be skipped (and it gets the max ranking). This is what jack_max() does.\n",
    "\n",
    "The third case is if there are one or more Js in the hand but J is not the most common card: In this case, the count of J is added to that of the most common card. This is always the move that gives the highest hand ranking in this case. This is what jack_elsewhere() does."
   ]
  },
  {
   "cell_type": "code",
   "execution_count": 232,
   "id": "305478be",
   "metadata": {},
   "outputs": [],
   "source": [
    "from collections import Counter"
   ]
  },
  {
   "cell_type": "code",
   "execution_count": 233,
   "id": "2b31f6e8",
   "metadata": {},
   "outputs": [],
   "source": [
    "def hand_scorer(c_mc):\n",
    "    if c_mc[0][1] == 5:\n",
    "        hrank = 6 # five of a kind\n",
    "    elif c_mc[0][1] == 4:\n",
    "        hrank = 5 # four of a kind\n",
    "    elif c_mc[0][1] == 3:\n",
    "        if c_mc[1][1] == 2:\n",
    "            hrank = 4 # full house\n",
    "        else:\n",
    "            hrank = 3 # three of a kind\n",
    "    elif c_mc[0][1] == 2:\n",
    "        if c_mc[1][1] == 2:\n",
    "            hrank = 2 # two pair\n",
    "        else:\n",
    "            hrank = 1 # one pair\n",
    "    else:\n",
    "        hrank = 0 # high card\n",
    "    return hrank"
   ]
  },
  {
   "cell_type": "code",
   "execution_count": 234,
   "id": "79922a2a",
   "metadata": {},
   "outputs": [],
   "source": [
    "def jack_max(c, c_mc): #jack is max1\n",
    "    if c_mc[0][1] != 5:\n",
    "        max2 = c_mc[1][0]\n",
    "        c[\"J\"] = c[\"J\"] + c[max2]\n",
    "        c[max2] = 0\n",
    "        c_mc = c.most_common()\n",
    "    return c_mc"
   ]
  },
  {
   "cell_type": "code",
   "execution_count": 235,
   "id": "d09978e7",
   "metadata": {},
   "outputs": [],
   "source": [
    "def jack_elsewhere(c, c_mc):\n",
    "    max1 = c_mc[0][0]\n",
    "    c[max1] = c[max1] + c[\"J\"]\n",
    "    c[\"J\"] = 0\n",
    "    c_mc = c.most_common()\n",
    "    return c_mc"
   ]
  },
  {
   "cell_type": "code",
   "execution_count": 238,
   "id": "36216896",
   "metadata": {},
   "outputs": [],
   "source": [
    "def jack_checker(hand):\n",
    "    c = Counter(hand)\n",
    "    c_mc = c.most_common()\n",
    "    if c[\"J\"] == 0:\n",
    "        # run original scorer (hand_scorer)\n",
    "        hrank = hand_scorer(c_mc)\n",
    "    elif c_mc[0][0] == \"J\":\n",
    "        # add max2 card to jack (jack_max)\n",
    "        # then run hand_scorer\n",
    "        c_mc = jack_max(c, c_mc)\n",
    "        hrank = hand_scorer(c_mc)\n",
    "    else:\n",
    "        # add jack to max1 card (jack_elsewhere)\n",
    "        # then run hand_scorer\n",
    "        c_mc = jack_elsewhere(c, c_mc)\n",
    "        hrank = hand_scorer(c_mc)\n",
    "    return hrank"
   ]
  },
  {
   "cell_type": "markdown",
   "id": "eece8e69",
   "metadata": {},
   "source": [
    "The rest of the code is effectively identical to part 1. The jack_checker() wrapper is applied to each hand, the hands are ranked by hand type and then each card is ranked in order. The hands are multiply sorted based on these rankings such that the overall ranking is given by the index+1, then the winnings per hand are calculated and summed for total winnings; this is the answer to the problem!"
   ]
  },
  {
   "cell_type": "code",
   "execution_count": 251,
   "id": "e6155fb3",
   "metadata": {},
   "outputs": [],
   "source": [
    "for i in input_list:\n",
    "    hrank = jack_checker(i[0])\n",
    "    i.append(hrank)"
   ]
  },
  {
   "cell_type": "code",
   "execution_count": 240,
   "id": "02a32e12",
   "metadata": {},
   "outputs": [],
   "source": [
    "def card_comparer(hand):\n",
    "    for i in hand[0]:\n",
    "        hand.append(c_rank[i])\n",
    "    return hand"
   ]
  },
  {
   "cell_type": "code",
   "execution_count": 252,
   "id": "470856b8",
   "metadata": {},
   "outputs": [],
   "source": [
    "for i in input_list:\n",
    "    card_comparer(i)"
   ]
  },
  {
   "cell_type": "code",
   "execution_count": 242,
   "id": "b6898191",
   "metadata": {},
   "outputs": [],
   "source": [
    "from operator import itemgetter"
   ]
  },
  {
   "cell_type": "code",
   "execution_count": 253,
   "id": "e8858160",
   "metadata": {},
   "outputs": [],
   "source": [
    "sorted_list = sorted(input_list, key = itemgetter(2,3,4,5,6,7))"
   ]
  },
  {
   "cell_type": "code",
   "execution_count": 254,
   "id": "15b81420",
   "metadata": {},
   "outputs": [],
   "source": [
    "winnings = []\n",
    "for i,hand in enumerate(sorted_list):\n",
    "    rank = i+1\n",
    "    bid = hand[1]\n",
    "    winnings.append(rank*bid)"
   ]
  },
  {
   "cell_type": "code",
   "execution_count": 255,
   "id": "04addaf5",
   "metadata": {},
   "outputs": [],
   "source": [
    "total_winnings = sum(winnings)"
   ]
  },
  {
   "cell_type": "code",
   "execution_count": 256,
   "id": "eb39cf29",
   "metadata": {},
   "outputs": [
    {
     "name": "stdout",
     "output_type": "stream",
     "text": [
      "249138943\n"
     ]
    }
   ],
   "source": [
    "print(total_winnings)"
   ]
  }
 ],
 "metadata": {
  "kernelspec": {
   "display_name": "Python [conda env:aoc]",
   "language": "python",
   "name": "conda-env-aoc-py"
  },
  "language_info": {
   "codemirror_mode": {
    "name": "ipython",
    "version": 3
   },
   "file_extension": ".py",
   "mimetype": "text/x-python",
   "name": "python",
   "nbconvert_exporter": "python",
   "pygments_lexer": "ipython3",
   "version": "3.11.5"
  }
 },
 "nbformat": 4,
 "nbformat_minor": 5
}
