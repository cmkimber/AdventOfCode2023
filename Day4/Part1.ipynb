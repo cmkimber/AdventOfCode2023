{
 "cells": [
  {
   "cell_type": "markdown",
   "id": "8af46347",
   "metadata": {},
   "source": [
    "# Advent of Code 2023"
   ]
  },
  {
   "cell_type": "markdown",
   "id": "504dc8ad",
   "metadata": {},
   "source": [
    "## Day 4 -- Scratchcards (Part 1)"
   ]
  },
  {
   "cell_type": "markdown",
   "id": "c5a4fd7f",
   "metadata": {},
   "source": [
    "## Author: Chris Kimber"
   ]
  },
  {
   "cell_type": "markdown",
   "id": "80289061",
   "metadata": {},
   "source": [
    "The description of this problem can be found at https://adventofcode.com/2023/day/4.\n",
    "\n",
    "Boilerplate for loading in the data and splitting into separate strings by line. Can't believe I finally learned you can use .splitlines() for this task, since it is necessary in most AoC problems. Saves having to .rstrip() to remove the typical blank line at the end of AoC datasets too."
   ]
  },
  {
   "cell_type": "code",
   "execution_count": 81,
   "id": "36dc3d9b",
   "metadata": {},
   "outputs": [],
   "source": [
    "file = open(\"input\", \"r\")\n",
    "input_file = file.read().splitlines()"
   ]
  },
  {
   "cell_type": "code",
   "execution_count": 3,
   "id": "0c8a0414",
   "metadata": {},
   "outputs": [
    {
     "name": "stdout",
     "output_type": "stream",
     "text": [
      "['Card 1: 41 48 83 86 17 | 83 86  6 31 17  9 48 53', 'Card 2: 13 32 20 16 61 | 61 30 68 82 17 32 24 19', 'Card 3:  1 21 53 59 44 | 69 82 63 72 16 21 14  1', 'Card 4: 41 92 73 84 69 | 59 84 76 51 58  5 54 83', 'Card 5: 87 83 26 28 32 | 88 30 70 12 93 22 82 36', 'Card 6: 31 18 13 56 72 | 74 77 10 23 35 67 36 11']\n"
     ]
    }
   ],
   "source": [
    "print(input_file)"
   ]
  },
  {
   "cell_type": "markdown",
   "id": "4f6b5965",
   "metadata": {},
   "source": [
    "Using regex to parse the card format strings. Dropping the first element gets rid of the information on card number but it is not necessary in this problem. The result is a sublist for each card with 2 elements: the winning numbers and the numbers on the card."
   ]
  },
  {
   "cell_type": "code",
   "execution_count": 5,
   "id": "975a67ce",
   "metadata": {},
   "outputs": [],
   "source": [
    "import re"
   ]
  },
  {
   "cell_type": "code",
   "execution_count": 82,
   "id": "66d2c27d",
   "metadata": {},
   "outputs": [],
   "source": [
    "input_list = [re.split(\"[:\\|]\", x)[1:] for x in input_file]"
   ]
  },
  {
   "cell_type": "code",
   "execution_count": 27,
   "id": "ee109162",
   "metadata": {},
   "outputs": [
    {
     "data": {
      "text/plain": [
       "[[' 41 48 83 86 17 ', ' 83 86  6 31 17  9 48 53'],\n",
       " [' 13 32 20 16 61 ', ' 61 30 68 82 17 32 24 19'],\n",
       " ['  1 21 53 59 44 ', ' 69 82 63 72 16 21 14  1'],\n",
       " [' 41 92 73 84 69 ', ' 59 84 76 51 58  5 54 83'],\n",
       " [' 87 83 26 28 32 ', ' 88 30 70 12 93 22 82 36'],\n",
       " [' 31 18 13 56 72 ', ' 74 77 10 23 35 67 36 11']]"
      ]
     },
     "execution_count": 27,
     "metadata": {},
     "output_type": "execute_result"
    }
   ],
   "source": [
    "input_list"
   ]
  },
  {
   "cell_type": "code",
   "execution_count": 30,
   "id": "ff2347cd",
   "metadata": {},
   "outputs": [
    {
     "data": {
      "text/plain": [
       "[{'17', '41', '48', '83', '86'},\n",
       " {'17', '31', '48', '53', '6', '83', '86', '9'}]"
      ]
     },
     "execution_count": 30,
     "metadata": {},
     "output_type": "execute_result"
    }
   ],
   "source": [
    "[set(x.split()) for x in input_list[0]]"
   ]
  },
  {
   "cell_type": "markdown",
   "id": "4ef3af33",
   "metadata": {},
   "source": [
    "The strings containing each set of numbers in a sublist are then converted to sets for ease of calculating matches. There is no need to make the 'numbers' into integers as string comparison works fine here."
   ]
  },
  {
   "cell_type": "code",
   "execution_count": 83,
   "id": "6bd9f099",
   "metadata": {},
   "outputs": [],
   "source": [
    "input_sets = [[set(x.split()) for x in sublist] for sublist in input_list]"
   ]
  },
  {
   "cell_type": "code",
   "execution_count": 42,
   "id": "6a591c8c",
   "metadata": {},
   "outputs": [
    {
     "data": {
      "text/plain": [
       "[[{'17', '41', '48', '83', '86'},\n",
       "  {'17', '31', '48', '53', '6', '83', '86', '9'}],\n",
       " [{'13', '16', '20', '32', '61'},\n",
       "  {'17', '19', '24', '30', '32', '61', '68', '82'}],\n",
       " [{'1', '21', '44', '53', '59'},\n",
       "  {'1', '14', '16', '21', '63', '69', '72', '82'}],\n",
       " [{'41', '69', '73', '84', '92'},\n",
       "  {'5', '51', '54', '58', '59', '76', '83', '84'}],\n",
       " [{'26', '28', '32', '83', '87'},\n",
       "  {'12', '22', '30', '36', '70', '82', '88', '93'}],\n",
       " [{'13', '18', '31', '56', '72'},\n",
       "  {'10', '11', '23', '35', '36', '67', '74', '77'}]]"
      ]
     },
     "execution_count": 42,
     "metadata": {},
     "output_type": "execute_result"
    }
   ],
   "source": [
    "input_sets"
   ]
  },
  {
   "cell_type": "markdown",
   "id": "f9cee0c8",
   "metadata": {},
   "source": [
    "This function takes the intersection of the winning numbers and the numbers on the card to determine the number of winning numbers a card holds. If it is 0, the score is also 0. Otherwise it calculates the score by multiplying 1 by 2 to the power of the number of winners minus 1. This means that if there is 1 match it returns 1, and then for each additional match it doubles the score."
   ]
  },
  {
   "cell_type": "code",
   "execution_count": 95,
   "id": "794eabae",
   "metadata": {},
   "outputs": [],
   "source": [
    "def calculate_score(card):\n",
    "    winners = card[1].intersection(card[0])\n",
    "    number_winners = len(winners)\n",
    "    if number_winners == 0:\n",
    "        score = 0\n",
    "    else:\n",
    "        score = 1*2**(number_winners-1)\n",
    "    return score"
   ]
  },
  {
   "cell_type": "code",
   "execution_count": 91,
   "id": "5ef74e29",
   "metadata": {},
   "outputs": [
    {
     "data": {
      "text/plain": [
       "128"
      ]
     },
     "execution_count": 91,
     "metadata": {},
     "output_type": "execute_result"
    }
   ],
   "source": [
    "compare_cards(input_sets[0])"
   ]
  },
  {
   "cell_type": "markdown",
   "id": "31f3f619",
   "metadata": {},
   "source": [
    "This function applies the above function to each card the elf has and calculates the score for each. The sum of these scores is the answer to the problem!"
   ]
  },
  {
   "cell_type": "code",
   "execution_count": 76,
   "id": "cb04fbbd",
   "metadata": {},
   "outputs": [],
   "source": [
    "def count_scores(cards):\n",
    "    scores = []\n",
    "    for card in cards:\n",
    "        score = calculate_score(card)\n",
    "        scores.append(score)\n",
    "    return scores"
   ]
  },
  {
   "cell_type": "code",
   "execution_count": 96,
   "id": "180a3fd5",
   "metadata": {},
   "outputs": [],
   "source": [
    "scores = count_scores(input_sets)"
   ]
  },
  {
   "cell_type": "code",
   "execution_count": 97,
   "id": "f903bda6",
   "metadata": {},
   "outputs": [],
   "source": [
    "total_score = sum(scores)"
   ]
  },
  {
   "cell_type": "code",
   "execution_count": 98,
   "id": "15a93e47",
   "metadata": {},
   "outputs": [
    {
     "data": {
      "text/plain": [
       "25571"
      ]
     },
     "execution_count": 98,
     "metadata": {},
     "output_type": "execute_result"
    }
   ],
   "source": [
    "total_score"
   ]
  }
 ],
 "metadata": {
  "kernelspec": {
   "display_name": "Python [conda env:aoc]",
   "language": "python",
   "name": "conda-env-aoc-py"
  },
  "language_info": {
   "codemirror_mode": {
    "name": "ipython",
    "version": 3
   },
   "file_extension": ".py",
   "mimetype": "text/x-python",
   "name": "python",
   "nbconvert_exporter": "python",
   "pygments_lexer": "ipython3",
   "version": "3.11.5"
  }
 },
 "nbformat": 4,
 "nbformat_minor": 5
}
