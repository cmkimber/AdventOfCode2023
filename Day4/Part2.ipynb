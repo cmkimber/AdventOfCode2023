{
 "cells": [
  {
   "cell_type": "markdown",
   "id": "616933b8",
   "metadata": {},
   "source": [
    "# Advent of Code 2023"
   ]
  },
  {
   "cell_type": "markdown",
   "id": "f24237f8",
   "metadata": {},
   "source": [
    "## Day 4 -- Scratchcards (Part 2)"
   ]
  },
  {
   "cell_type": "markdown",
   "id": "5bbbf5d9",
   "metadata": {},
   "source": [
    "## Author: Chris Kimber"
   ]
  },
  {
   "cell_type": "markdown",
   "id": "94f88102",
   "metadata": {},
   "source": [
    "The description of this problem can be found at https://adventofcode.com/2023/day/4.\n",
    "\n",
    "Boilerplate for loading in the data and splitting into separate strings by line. Can't believe I finally learned you can use .splitlines() for this task, since it is necessary in most AoC problems. Saves having to .rstrip() to remove the typical blank line at the end of AoC datasets too.\n",
    "\n",
    "The initial parsing of data into a workable structure for part 2 is similar to that in part 1; see part 1 for additional interpretation."
   ]
  },
  {
   "cell_type": "code",
   "execution_count": 70,
   "id": "059e37ae",
   "metadata": {},
   "outputs": [],
   "source": [
    "file = open(\"input\", \"r\")\n",
    "input_file = file.read().splitlines()"
   ]
  },
  {
   "cell_type": "code",
   "execution_count": 2,
   "id": "53824c76",
   "metadata": {},
   "outputs": [],
   "source": [
    "import re"
   ]
  },
  {
   "cell_type": "code",
   "execution_count": 71,
   "id": "bbc79c07",
   "metadata": {},
   "outputs": [],
   "source": [
    "input_list = [re.split(\"[:\\|]\", x)[1:] for x in input_file]"
   ]
  },
  {
   "cell_type": "code",
   "execution_count": 72,
   "id": "11c7a817",
   "metadata": {},
   "outputs": [],
   "source": [
    "input_sets = [[set(x.split()) for x in sublist] for sublist in input_list]"
   ]
  },
  {
   "cell_type": "markdown",
   "id": "fb31703d",
   "metadata": {},
   "source": [
    "Similarly to part 1, the number of winning numbers on a card is calculated using the intersection of the sets containing the numbers on the card and all the winning numbers for that card. In this part, there is no need to calculate a score from that information."
   ]
  },
  {
   "cell_type": "code",
   "execution_count": 73,
   "id": "4e869828",
   "metadata": {},
   "outputs": [],
   "source": [
    "def calculate_matches(card):\n",
    "    winners = card[1].intersection(card[0])\n",
    "    number_winners = len(winners)\n",
    "    return number_winners"
   ]
  },
  {
   "cell_type": "markdown",
   "id": "40a1f40f",
   "metadata": {},
   "source": [
    "This function generates a dictionary where the key is the number of the card and the value is the number of matching numbers that card contains. The number of the card is index+1 because the cards are numbered from 1 whereas the list is 0-indexed."
   ]
  },
  {
   "cell_type": "code",
   "execution_count": 74,
   "id": "56296ac4",
   "metadata": {},
   "outputs": [],
   "source": [
    "def make_dict(cards):\n",
    "    match_dict = {}\n",
    "    for index, card in enumerate(cards):\n",
    "        match_dict[index+1] = calculate_matches(card)\n",
    "    return match_dict"
   ]
  },
  {
   "cell_type": "code",
   "execution_count": 75,
   "id": "15211830",
   "metadata": {},
   "outputs": [],
   "source": [
    "match_dict = make_dict(input_sets)"
   ]
  },
  {
   "cell_type": "markdown",
   "id": "feccaaab",
   "metadata": {},
   "source": [
    "The challenge in part 2 is to keep track of the additional copies of cards won by having winning numbers on preceding cards. To track the number of each card possessed as the game progresses, a dictionary containing a key for each card # is initialized with a count of 1 card per number. \n",
    "\n",
    "The for loop then iterates through each card number in order. If there are no matching numbers on that card, no new card copies are added to the dictionary. If the card has matching numbers, copies of the next cards in order are added to the dictionary. How many cards have copies added to them is determined by the number of matches on the current card (the iterator of the nested for loop), while the number of copies added per card # is determined by the number of copies of the current card in the dictionary (the content of the nested for loop).\n",
    "\n",
    "As the problem states that no card will generate copies past the end of the table, there is no need to account for this in the for loop.\n",
    "\n",
    "The total number of cards held, summed across all copies of each card # at the end, is the answer to the problem!"
   ]
  },
  {
   "cell_type": "code",
   "execution_count": 76,
   "id": "0bfeae3d",
   "metadata": {
    "scrolled": true
   },
   "outputs": [],
   "source": [
    "card_counter = dict.fromkeys(match_dict, 1)\n",
    "for card in card_counter:\n",
    "    if match_dict[card] == 0:\n",
    "        card_counter = card_counter\n",
    "    else:\n",
    "        for i in range(card+1, (card+match_dict[card]+1)):\n",
    "            card_counter[i] = card_counter[i] + card_counter[card]\n",
    "            #print(card_counter)\n",
    "final_counts = card_counter"
   ]
  },
  {
   "cell_type": "code",
   "execution_count": 77,
   "id": "9bd3c4dd",
   "metadata": {},
   "outputs": [],
   "source": [
    "total = sum(final_counts.values())"
   ]
  },
  {
   "cell_type": "code",
   "execution_count": 78,
   "id": "f45a688c",
   "metadata": {},
   "outputs": [
    {
     "data": {
      "text/plain": [
       "8805731"
      ]
     },
     "execution_count": 78,
     "metadata": {},
     "output_type": "execute_result"
    }
   ],
   "source": [
    "total"
   ]
  }
 ],
 "metadata": {
  "kernelspec": {
   "display_name": "Python [conda env:aoc]",
   "language": "python",
   "name": "conda-env-aoc-py"
  },
  "language_info": {
   "codemirror_mode": {
    "name": "ipython",
    "version": 3
   },
   "file_extension": ".py",
   "mimetype": "text/x-python",
   "name": "python",
   "nbconvert_exporter": "python",
   "pygments_lexer": "ipython3",
   "version": "3.11.5"
  }
 },
 "nbformat": 4,
 "nbformat_minor": 5
}
