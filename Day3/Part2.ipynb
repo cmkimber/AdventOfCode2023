{
 "cells": [
  {
   "cell_type": "markdown",
   "id": "4ade4b7e",
   "metadata": {},
   "source": [
    "# Advent of Code 2023"
   ]
  },
  {
   "cell_type": "markdown",
   "id": "9c95ce6e",
   "metadata": {},
   "source": [
    "## Day 3 -- Gear Ratios (Part 2)"
   ]
  },
  {
   "cell_type": "markdown",
   "id": "020cfcfd",
   "metadata": {},
   "source": [
    "## Author: Chris Kimber"
   ]
  },
  {
   "cell_type": "markdown",
   "id": "d5321b33",
   "metadata": {},
   "source": [
    "The instructions for this problem can be found at https://adventofcode.com/2023/day/3.\n",
    "\n",
    "The code below is largely similar to the code in part 1, with the exception that only asterisks are identified rather than all symbols."
   ]
  },
  {
   "cell_type": "code",
   "execution_count": 77,
   "id": "419e617d",
   "metadata": {},
   "outputs": [],
   "source": [
    "file = open(\"input\", \"r\")\n",
    "input_file = file.read().splitlines()"
   ]
  },
  {
   "cell_type": "code",
   "execution_count": 78,
   "id": "22fc834d",
   "metadata": {},
   "outputs": [],
   "source": [
    "asterisk_coords = []\n",
    "for x,i in enumerate(input_file):\n",
    "    for y,j in enumerate(i):\n",
    "        if j == \"*\":\n",
    "            asterisk_coords.append([x,y])"
   ]
  },
  {
   "cell_type": "code",
   "execution_count": 79,
   "id": "3195e0f8",
   "metadata": {},
   "outputs": [],
   "source": [
    "import re"
   ]
  },
  {
   "cell_type": "code",
   "execution_count": 80,
   "id": "b71a544b",
   "metadata": {},
   "outputs": [],
   "source": [
    "number_matches = []\n",
    "for i in input_file:\n",
    "    iterator = re.finditer(r\"([0-9]+)\", i)\n",
    "    number_matches.append(iterator)"
   ]
  },
  {
   "cell_type": "code",
   "execution_count": 81,
   "id": "c2e866fb",
   "metadata": {},
   "outputs": [],
   "source": [
    "number_spans = []\n",
    "for x,iterator in enumerate(number_matches):\n",
    "    for match in iterator:\n",
    "        number_spans.append([x, match.span(), int(match.group())])"
   ]
  },
  {
   "cell_type": "markdown",
   "id": "20246dc8",
   "metadata": {},
   "source": [
    "The logic for part 2 at this point in the problem is slightly different from part 1. In part 1, the number was the focal unit and the search space around each number was checked to see if there was a symbol within it. In part 2, the asterisk is the focal unit and the goal is to identify which asterisks have 2 and only 2 numbers in the search space around them.\n",
    "\n",
    "The function below takes the coordinate of an asterisk and a number as input and checks whether the asterisk is in the search space around the number; this is effectively the same as checking whether the number is in the search space around that asterisk.\n",
    "\n",
    "The loop then iterates through each asterisk and checks through each number to see if it is within the search space. If 2 and only 2 numbers are in the search space of that asterisk, that asterisk is a gear and the 2 numbers are saved."
   ]
  },
  {
   "cell_type": "code",
   "execution_count": 82,
   "id": "4644abc4",
   "metadata": {},
   "outputs": [],
   "source": [
    "def number_checker(asterisk_coord, number_span):\n",
    "    i_range = range(number_span[0]-1, number_span[0]+2)\n",
    "    j_range = range(number_span[1][0]-1, number_span[1][1]+1)\n",
    "    if asterisk_coord[0] in i_range and asterisk_coord[1] in j_range:\n",
    "        return number_span[2]"
   ]
  },
  {
   "cell_type": "code",
   "execution_count": 83,
   "id": "f5e6e1f2",
   "metadata": {},
   "outputs": [],
   "source": [
    "gears = []\n",
    "for asterisk_coord in asterisk_coords:\n",
    "    adjacent_numbers = []\n",
    "    for number_span in number_spans:\n",
    "        number = number_checker(asterisk_coord, number_span)\n",
    "        if number != None:\n",
    "            adjacent_numbers.append(number)\n",
    "    if len(adjacent_numbers) == 2:\n",
    "        gears.append(adjacent_numbers)"
   ]
  },
  {
   "cell_type": "markdown",
   "id": "5cdbb513",
   "metadata": {},
   "source": [
    "Each pair of numbers represents a gear, and the ratio of that gear is calculated by taking the product of the two numbers. The ratios for each gear are then summed; this is the answer to the problem!"
   ]
  },
  {
   "cell_type": "code",
   "execution_count": 84,
   "id": "03d34050",
   "metadata": {},
   "outputs": [],
   "source": [
    "from math import prod\n",
    "gear_ratios = [prod(x) for x in gears]"
   ]
  },
  {
   "cell_type": "code",
   "execution_count": 85,
   "id": "b937d267",
   "metadata": {},
   "outputs": [],
   "source": [
    "sum_gear_ratios = sum(gear_ratios)"
   ]
  },
  {
   "cell_type": "code",
   "execution_count": 86,
   "id": "1b5502ba",
   "metadata": {},
   "outputs": [
    {
     "name": "stdout",
     "output_type": "stream",
     "text": [
      "78826761\n"
     ]
    }
   ],
   "source": [
    "print(sum_gear_ratios)"
   ]
  }
 ],
 "metadata": {
  "kernelspec": {
   "display_name": "Python [conda env:aoc]",
   "language": "python",
   "name": "conda-env-aoc-py"
  },
  "language_info": {
   "codemirror_mode": {
    "name": "ipython",
    "version": 3
   },
   "file_extension": ".py",
   "mimetype": "text/x-python",
   "name": "python",
   "nbconvert_exporter": "python",
   "pygments_lexer": "ipython3",
   "version": "3.11.5"
  }
 },
 "nbformat": 4,
 "nbformat_minor": 5
}
