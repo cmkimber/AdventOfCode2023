{
 "cells": [
  {
   "cell_type": "markdown",
   "id": "664a75c1",
   "metadata": {},
   "source": [
    "# Advent of Code 2023"
   ]
  },
  {
   "cell_type": "markdown",
   "id": "88e0342c",
   "metadata": {},
   "source": [
    "## Day 3 -- Gear Ratios (Part 1)"
   ]
  },
  {
   "cell_type": "markdown",
   "id": "de3b8929",
   "metadata": {},
   "source": [
    "## Author: Chris Kimber"
   ]
  },
  {
   "cell_type": "markdown",
   "id": "a77e114f",
   "metadata": {},
   "source": [
    "The instructions for this problem can be found at https://adventofcode.com/2023/day/3.\n",
    "\n",
    "Boilerplate reading in of the data. Splitlines creates an analog to a 2D array (rows are lines, columns are character positions within each line)."
   ]
  },
  {
   "cell_type": "code",
   "execution_count": 219,
   "id": "f8b4c825",
   "metadata": {},
   "outputs": [],
   "source": [
    "file = open(\"input\", \"r\")\n",
    "input_file = file.read().splitlines()"
   ]
  },
  {
   "cell_type": "markdown",
   "id": "51e35a78",
   "metadata": {},
   "source": [
    "Rather than identifying a list of possible symbols (whitelist/blacklist), symbols are identified as anything which is not a digit and is not a \".\". The coordinates of all symbols are then saved."
   ]
  },
  {
   "cell_type": "code",
   "execution_count": 220,
   "id": "6e59c7ff",
   "metadata": {},
   "outputs": [],
   "source": [
    "symbol_coords = []\n",
    "for x,i in enumerate(input_file):\n",
    "    for y,j in enumerate(i):\n",
    "        if j.isdigit() == False:\n",
    "            if j != \".\":\n",
    "                symbol_coords.append([x,y])"
   ]
  },
  {
   "cell_type": "markdown",
   "id": "51444ce2",
   "metadata": {},
   "source": [
    "Numbers are then identified, here using a basic regex. For the regex haters: yes, there are surely other ways to do this but it's a very simple regex that captures the whole number of variable length and saves its position/span.\n",
    "\n",
    "The first loop creates an iterable object for each line (row) containing all numbers in that row. The second loop runs through each iterable and saves out the row index, span within the row (column index) and the number itself."
   ]
  },
  {
   "cell_type": "code",
   "execution_count": 221,
   "id": "66eb5f1d",
   "metadata": {},
   "outputs": [],
   "source": [
    "import re"
   ]
  },
  {
   "cell_type": "code",
   "execution_count": 222,
   "id": "57a4c236",
   "metadata": {},
   "outputs": [],
   "source": [
    "number_matches = []\n",
    "for i in input_file:\n",
    "    iterator = re.finditer(r\"([0-9]+)\", i)\n",
    "    number_matches.append(iterator)"
   ]
  },
  {
   "cell_type": "code",
   "execution_count": 223,
   "id": "09bb31da",
   "metadata": {},
   "outputs": [],
   "source": [
    "number_spans = []\n",
    "for x,iterator in enumerate(number_matches):\n",
    "    for match in iterator:\n",
    "        number_spans.append([x, match.span(), int(match.group())])"
   ]
  },
  {
   "cell_type": "markdown",
   "id": "f335caf1",
   "metadata": {},
   "source": [
    "The following function takes one number as input, builds a search grid around it (one position adjacent to the number in all directions including diagonal), and then checks through each symbol to see if that symbol is in the search grid. If the symbol is in the search grid, that means the number is a \"part number\" and is saved"
   ]
  },
  {
   "cell_type": "code",
   "execution_count": 224,
   "id": "4ef9db27",
   "metadata": {},
   "outputs": [],
   "source": [
    "def part_checker(number_span):\n",
    "    i_range = range(number_span[0]-1, number_span[0]+2)\n",
    "    j_range = range(number_span[1][0]-1, number_span[1][1]+1)\n",
    "    for symbol in symbol_coords:\n",
    "        if symbol[0] in i_range and symbol[1] in j_range:\n",
    "            return number_span[2]"
   ]
  },
  {
   "cell_type": "markdown",
   "id": "3cfe5bd9",
   "metadata": {},
   "source": [
    "This loops through all the numbers and applies the function above to test if each number is a \"part number\", saving the part numbers out to a list.\n",
    "\n",
    "The sum of all the part numbers is then calculated, and this is the answer to the problem!"
   ]
  },
  {
   "cell_type": "code",
   "execution_count": 225,
   "id": "9f6a9c1d",
   "metadata": {},
   "outputs": [],
   "source": [
    "part_numbers = []\n",
    "for number_span in number_spans:\n",
    "    part_number = part_checker(number_span)\n",
    "    if part_number != None:\n",
    "        part_numbers.append(part_number)"
   ]
  },
  {
   "cell_type": "code",
   "execution_count": 226,
   "id": "6c4e4723",
   "metadata": {},
   "outputs": [],
   "source": [
    "sum_part_numbers = sum(part_numbers)"
   ]
  },
  {
   "cell_type": "code",
   "execution_count": 227,
   "id": "f60d20c2",
   "metadata": {},
   "outputs": [
    {
     "name": "stdout",
     "output_type": "stream",
     "text": [
      "533784\n"
     ]
    }
   ],
   "source": [
    "print(sum_part_numbers)"
   ]
  }
 ],
 "metadata": {
  "kernelspec": {
   "display_name": "Python [conda env:aoc]",
   "language": "python",
   "name": "conda-env-aoc-py"
  },
  "language_info": {
   "codemirror_mode": {
    "name": "ipython",
    "version": 3
   },
   "file_extension": ".py",
   "mimetype": "text/x-python",
   "name": "python",
   "nbconvert_exporter": "python",
   "pygments_lexer": "ipython3",
   "version": "3.11.5"
  }
 },
 "nbformat": 4,
 "nbformat_minor": 5
}
