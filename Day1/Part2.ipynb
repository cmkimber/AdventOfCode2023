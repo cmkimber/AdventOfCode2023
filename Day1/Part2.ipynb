{
 "cells": [
  {
   "cell_type": "markdown",
   "id": "e30c3947",
   "metadata": {},
   "source": [
    "# Advent of Code 2023"
   ]
  },
  {
   "cell_type": "markdown",
   "id": "2342829a",
   "metadata": {},
   "source": [
    "## Day 1 -- Trebuchet?! (Part 2)"
   ]
  },
  {
   "cell_type": "markdown",
   "id": "a66c6e77",
   "metadata": {},
   "source": [
    "## Author: Chris Kimber"
   ]
  },
  {
   "cell_type": "markdown",
   "id": "3caa6248",
   "metadata": {},
   "source": [
    "The instructions for this problem can be found at https://adventofcode.com/2023/day/1.\n",
    "\n",
    "Boilerplate for reading in the data and splitting it by line. The re package is loaded so regex can be used to identify the first and last numbers in a line."
   ]
  },
  {
   "cell_type": "code",
   "execution_count": 64,
   "id": "e34c9f75",
   "metadata": {},
   "outputs": [],
   "source": [
    "file = open(\"input\", \"r\")\n",
    "input_file = file.read()\n",
    "input_file = input_file.rstrip()"
   ]
  },
  {
   "cell_type": "code",
   "execution_count": 65,
   "id": "74141767",
   "metadata": {},
   "outputs": [],
   "source": [
    "input_list = [x for x in input_file.split(\"\\n\")]"
   ]
  },
  {
   "cell_type": "code",
   "execution_count": 32,
   "id": "b862ffc7",
   "metadata": {},
   "outputs": [],
   "source": [
    "import re"
   ]
  },
  {
   "cell_type": "markdown",
   "id": "998c248d",
   "metadata": {},
   "source": [
    "The goal is to identify numbers represented in one of two ways, as a digit or as a word. A list containing all options is initialized, as is a dictionary containing the correspondence between digit and word."
   ]
  },
  {
   "cell_type": "code",
   "execution_count": 9,
   "id": "9aec5844",
   "metadata": {},
   "outputs": [],
   "source": [
    "digits = ['one', 'two', 'three', 'four', 'five', 'six', 'seven', 'eight', 'nine', '1', '2', '3', '4', '5', '6', '7', '8', '9']"
   ]
  },
  {
   "cell_type": "code",
   "execution_count": 3,
   "id": "077706e1",
   "metadata": {},
   "outputs": [],
   "source": [
    "digit_dict = {'one': '1', 'two': '2', 'three': '3', 'four': '4', 'five': '5', 'six': '6', 'seven': '7', 'eight': '8', 'nine': '9'}"
   ]
  },
  {
   "cell_type": "markdown",
   "id": "aaf22ef1",
   "metadata": {},
   "source": [
    "This function checks whether an item in the list is in word or digit form by checking if it is a key in the dictionary. If it is, then it is in word form and the corresponding digit is returned. If it is not a key then it is already in digit form."
   ]
  },
  {
   "cell_type": "code",
   "execution_count": 19,
   "id": "91073706",
   "metadata": {},
   "outputs": [],
   "source": [
    "def digit_converter(digit):\n",
    "    if digit in digit_dict:\n",
    "        return digit_dict[digit]\n",
    "    else:\n",
    "        return digit"
   ]
  },
  {
   "cell_type": "markdown",
   "id": "7a6adf65",
   "metadata": {},
   "source": [
    "This function applies the above function to a list of numbers in either format and returns the sum of the first and last numbers in the list."
   ]
  },
  {
   "cell_type": "code",
   "execution_count": 18,
   "id": "fb1e8143",
   "metadata": {},
   "outputs": [],
   "source": [
    "def line_formatter(line):\n",
    "    match1 = digit_converter(line[0])\n",
    "    match2 = digit_converter(line[-1])\n",
    "    return int(match1 + match2)"
   ]
  },
  {
   "cell_type": "markdown",
   "id": "da1d0c73",
   "metadata": {},
   "source": [
    "This function uses a regex to find all matches to any of the items in the list of numbers (whether in digit or word form) within a line. This is done by concatenating all the items in the list using an \"or\" operator to put the list in regex format. It also uses a lookahead (the \"?=\") to deal with overlapping matches, as the main \"gotcha\" in this problem is that two numbers in word format can overlap eg. \"oneight\". A regex without a lookahead will only find \"one\".\n",
    "\n",
    "It then applies the function above to calcluate the sum of the first and last values found by the regex for each line (the calibration value of the line)."
   ]
  },
  {
   "cell_type": "code",
   "execution_count": 79,
   "id": "a2330802",
   "metadata": {},
   "outputs": [],
   "source": [
    "def line_processor(line):\n",
    "    matches = re.findall(r\"(?=(\"+'|'.join(digits)+r\"))\", line)\n",
    "    return line_formatter(matches)"
   ]
  },
  {
   "cell_type": "markdown",
   "id": "c4287867",
   "metadata": {},
   "source": [
    "The function above is applied across each line to calculate the calibration value of each line. The sum of all the calibration values is the answer to the problem!"
   ]
  },
  {
   "cell_type": "code",
   "execution_count": 80,
   "id": "6def00a6",
   "metadata": {},
   "outputs": [],
   "source": [
    "calibration_values = [line_processor(x) for x in input_list]"
   ]
  },
  {
   "cell_type": "code",
   "execution_count": 82,
   "id": "97009281",
   "metadata": {},
   "outputs": [],
   "source": [
    "sum_calibration_values = sum(calibration_values)"
   ]
  },
  {
   "cell_type": "code",
   "execution_count": 83,
   "id": "f610ed0f",
   "metadata": {},
   "outputs": [
    {
     "name": "stdout",
     "output_type": "stream",
     "text": [
      "53268\n"
     ]
    }
   ],
   "source": [
    "print(sum_calibration_values)"
   ]
  },
  {
   "cell_type": "markdown",
   "id": "411d83de",
   "metadata": {},
   "source": [
    "This section below was used as a test case to make sure the regex was handling overlapping numbers in \"word\" format correctly."
   ]
  },
  {
   "cell_type": "code",
   "execution_count": 70,
   "id": "6ba85b88",
   "metadata": {},
   "outputs": [],
   "source": [
    "test_string = \"8eight9oneight\""
   ]
  },
  {
   "cell_type": "code",
   "execution_count": 73,
   "id": "0dbb618f",
   "metadata": {},
   "outputs": [],
   "source": [
    "pattern = '|'.join(digits)"
   ]
  },
  {
   "cell_type": "code",
   "execution_count": 78,
   "id": "cd6c7f56",
   "metadata": {},
   "outputs": [
    {
     "data": {
      "text/plain": [
       "['8', 'eight', '9', 'one', 'eight']"
      ]
     },
     "execution_count": 78,
     "metadata": {},
     "output_type": "execute_result"
    }
   ],
   "source": [
    "re.findall(r\"(?=(\"+'|'.join(digits)+r\"))\", test_string)"
   ]
  }
 ],
 "metadata": {
  "kernelspec": {
   "display_name": "Python [conda env:aoc]",
   "language": "python",
   "name": "conda-env-aoc-py"
  },
  "language_info": {
   "codemirror_mode": {
    "name": "ipython",
    "version": 3
   },
   "file_extension": ".py",
   "mimetype": "text/x-python",
   "name": "python",
   "nbconvert_exporter": "python",
   "pygments_lexer": "ipython3",
   "version": "3.11.5"
  }
 },
 "nbformat": 4,
 "nbformat_minor": 5
}
