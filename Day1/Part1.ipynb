{
 "cells": [
  {
   "cell_type": "markdown",
   "id": "a4da3f93",
   "metadata": {},
   "source": [
    "# Advent of Code 2023"
   ]
  },
  {
   "cell_type": "markdown",
   "id": "1df038a8",
   "metadata": {},
   "source": [
    "## Day 1 -- Trebuchet?! (Part 1)"
   ]
  },
  {
   "cell_type": "markdown",
   "id": "2cacccee",
   "metadata": {},
   "source": [
    "## Author: Chris Kimber"
   ]
  },
  {
   "cell_type": "markdown",
   "id": "0d614fc6",
   "metadata": {},
   "source": [
    "The instructions for this problem can be found at https://adventofcode.com/2023/day/1.\n",
    "\n",
    "Boilerplate for reading in the data and splitting it by line. The re package is loaded so regex can be used to identify the first and last numbers in a line."
   ]
  },
  {
   "cell_type": "code",
   "execution_count": 27,
   "id": "e9ce74ca",
   "metadata": {},
   "outputs": [],
   "source": [
    "file = open(\"input\", \"r\")\n",
    "input_file = file.read()\n",
    "input_file = input_file.rstrip()"
   ]
  },
  {
   "cell_type": "code",
   "execution_count": 28,
   "id": "a6424463",
   "metadata": {},
   "outputs": [],
   "source": [
    "input_list = [x for x in input_file.split(\"\\n\")]"
   ]
  },
  {
   "cell_type": "code",
   "execution_count": 6,
   "id": "0ac059ca",
   "metadata": {},
   "outputs": [],
   "source": [
    "import re"
   ]
  },
  {
   "cell_type": "markdown",
   "id": "8abaf153",
   "metadata": {},
   "source": [
    "The following function finds the first and last digits in a line and returns their sum (the calibration value). This function is then applied to each row of the input data and the sum of the calibration values of each row is caluclated; this is the answer to the problem!"
   ]
  },
  {
   "cell_type": "code",
   "execution_count": 29,
   "id": "96085249",
   "metadata": {},
   "outputs": [],
   "source": [
    "def find_nums(line):\n",
    "    match1 = re.search(r'\\d', line).group()\n",
    "    match2 = re.search(r'\\d', line[::-1]).group()\n",
    "    return int((match1 + match2))"
   ]
  },
  {
   "cell_type": "code",
   "execution_count": 30,
   "id": "ba5f419b",
   "metadata": {},
   "outputs": [],
   "source": [
    "calibration_values = [find_nums(line) for line in input_list]"
   ]
  },
  {
   "cell_type": "code",
   "execution_count": 31,
   "id": "6a10db8f",
   "metadata": {},
   "outputs": [],
   "source": [
    "sum_calibration_values = sum(calibration_values)"
   ]
  },
  {
   "cell_type": "code",
   "execution_count": 32,
   "id": "be25f968",
   "metadata": {},
   "outputs": [
    {
     "name": "stdout",
     "output_type": "stream",
     "text": [
      "53080\n"
     ]
    }
   ],
   "source": [
    "print(sum_calibration_values)"
   ]
  }
 ],
 "metadata": {
  "kernelspec": {
   "display_name": "Python [conda env:aoc]",
   "language": "python",
   "name": "conda-env-aoc-py"
  },
  "language_info": {
   "codemirror_mode": {
    "name": "ipython",
    "version": 3
   },
   "file_extension": ".py",
   "mimetype": "text/x-python",
   "name": "python",
   "nbconvert_exporter": "python",
   "pygments_lexer": "ipython3",
   "version": "3.11.5"
  }
 },
 "nbformat": 4,
 "nbformat_minor": 5
}
