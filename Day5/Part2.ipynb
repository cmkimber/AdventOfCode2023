{
 "cells": [
  {
   "cell_type": "markdown",
   "id": "bf61d1dd",
   "metadata": {},
   "source": [
    "# Advent of Code 2023"
   ]
  },
  {
   "cell_type": "markdown",
   "id": "6eb462e7",
   "metadata": {},
   "source": [
    "## Day 5 -- If You Give A Seed A Fertilizer (Part 2)"
   ]
  },
  {
   "cell_type": "markdown",
   "id": "38871a43",
   "metadata": {},
   "source": [
    "## Author: Chris Kimber"
   ]
  },
  {
   "cell_type": "markdown",
   "id": "d72e4594",
   "metadata": {},
   "source": [
    "The instructions for this problem can be found at https://adventofcode.com/2023/day/5.\n",
    "\n",
    "Note: The challenge for part 2 is that instead of having 20 input values for the first map (\"seeds\"), there are 10 ranges of input values. This moves the number of input values into the billions and makes a brute-force solution rather infeasible. Instead of solving this totally solo, I did look at some reddit comments on the problem though I did not borrow any code. The 'optimal' way to solve this problem is by splitting the input ranges to create blocks of values that move through the maps together. Instead, I used a hack of sorts. Because the goal is to find the minimum final value (\"location\") that can be produced by one of the input values, you can run through the maps backwards starting at location 0 and incrementing the location by 1 until a value matching a seed within range is found. While this is still brute force, it should be computationally quicker than running through all the available seed values. I will hopefully try to solve the problem using range splitting later.\n",
    "\n",
    "The code to load in the data and parse the seed values is repeated from part 1."
   ]
  },
  {
   "cell_type": "code",
   "execution_count": 79,
   "id": "56242e56",
   "metadata": {},
   "outputs": [],
   "source": [
    "with open(\"input\", \"r\") as f:\n",
    "    input_file = f.read().rstrip().split(\"\\n\\n\")"
   ]
  },
  {
   "cell_type": "code",
   "execution_count": 80,
   "id": "b89092de",
   "metadata": {},
   "outputs": [],
   "source": [
    "input_list = [x.split(\"\\n\") for x in input_file]"
   ]
  },
  {
   "cell_type": "code",
   "execution_count": 81,
   "id": "00696203",
   "metadata": {},
   "outputs": [],
   "source": [
    "seeds = input_list.pop(0)"
   ]
  },
  {
   "cell_type": "code",
   "execution_count": 82,
   "id": "d1306235",
   "metadata": {},
   "outputs": [],
   "source": [
    "seeds = [x.split(\" \")[1:] for x in seeds]"
   ]
  },
  {
   "cell_type": "code",
   "execution_count": 83,
   "id": "9b2506db",
   "metadata": {},
   "outputs": [],
   "source": [
    "seeds = [int(number) for x in seeds for number in x]"
   ]
  },
  {
   "cell_type": "markdown",
   "id": "7b8f3274",
   "metadata": {},
   "source": [
    "There are cleaner ways to do this, but here the seed values are parsed into ranges by identifying which indices are range starts and then generating ranges from these indices using the function below."
   ]
  },
  {
   "cell_type": "code",
   "execution_count": 85,
   "id": "70589fe7",
   "metadata": {},
   "outputs": [],
   "source": [
    "start_indices = range(0, len(seeds), 2)"
   ]
  },
  {
   "cell_type": "code",
   "execution_count": 8,
   "id": "4b3cdfd0",
   "metadata": {},
   "outputs": [],
   "source": [
    "def calc_seed_ranges(seeds, start_indices):\n",
    "    seed_ranges = []\n",
    "    for i in start_indices:\n",
    "        seed_range = range(seeds[i], seeds[i]+seeds[i+1])\n",
    "        seed_ranges.append(seed_range)\n",
    "    return seed_ranges"
   ]
  },
  {
   "cell_type": "code",
   "execution_count": 86,
   "id": "82e53dc0",
   "metadata": {},
   "outputs": [],
   "source": [
    "seed_ranges = calc_seed_ranges(seeds, start_indices)"
   ]
  },
  {
   "cell_type": "markdown",
   "id": "bd1cf734",
   "metadata": {},
   "source": [
    "The parsing of the remaining data into a series of input-output maps is also repeated from part 1."
   ]
  },
  {
   "cell_type": "code",
   "execution_count": 87,
   "id": "8728706b",
   "metadata": {},
   "outputs": [],
   "source": [
    "input_list = [x[1:] for x in input_list]"
   ]
  },
  {
   "cell_type": "code",
   "execution_count": 88,
   "id": "f1e9d8e8",
   "metadata": {},
   "outputs": [],
   "source": [
    "input_list = [[string.split(\" \") for string in line] for line in input_list]"
   ]
  },
  {
   "cell_type": "code",
   "execution_count": 36,
   "id": "45796b72",
   "metadata": {},
   "outputs": [],
   "source": [
    "def make_ranges(map):\n",
    "    source_range = range(int(map[1]), int(map[1])+int(map[2]))\n",
    "    destination_range = range(int(map[0]), int(map[0])+int(map[2]))\n",
    "    return [source_range, destination_range]"
   ]
  },
  {
   "cell_type": "code",
   "execution_count": 89,
   "id": "779cf7e7",
   "metadata": {},
   "outputs": [],
   "source": [
    "input_list = [[make_ranges(map) for map in line] for line in input_list]"
   ]
  },
  {
   "cell_type": "markdown",
   "id": "93aa358e",
   "metadata": {},
   "source": [
    "The following function is derived from its equivalent in part 1 as well, but the logic is reversed so the second range in each offset map is the input and the first the output (as the maps are being traversed in reverse)."
   ]
  },
  {
   "cell_type": "code",
   "execution_count": 17,
   "id": "fdaeab4c",
   "metadata": {},
   "outputs": [],
   "source": [
    "def map_processor(num, map_doc):\n",
    "    for i in map_doc:\n",
    "        if num in i[1]:\n",
    "            diff = num-i[1][0]\n",
    "            destination = i[0][0] + diff\n",
    "            output_num = destination\n",
    "            break\n",
    "    else:\n",
    "        output_num = num\n",
    "    return output_num      "
   ]
  },
  {
   "cell_type": "markdown",
   "id": "18fa6af3",
   "metadata": {},
   "source": [
    "The following function takes the value at the end of the reversed map traversal and checks to see if it is in any of the ranges of seed values provided."
   ]
  },
  {
   "cell_type": "code",
   "execution_count": 73,
   "id": "1780bfc9",
   "metadata": {},
   "outputs": [],
   "source": [
    "def seed_checker(num, seed_ranges):\n",
    "    for seed in seed_ranges:\n",
    "        if num in seed:\n",
    "            return True\n",
    "            break"
   ]
  },
  {
   "cell_type": "markdown",
   "id": "eb7f0d32",
   "metadata": {},
   "source": [
    "The following function runs through the list of maps in reverse from an initial value and then checks to see if the final output was in the range of seed values provided."
   ]
  },
  {
   "cell_type": "code",
   "execution_count": 20,
   "id": "565255ea",
   "metadata": {},
   "outputs": [],
   "source": [
    "def location_to_seed(num, input_list):\n",
    "    for map_doc in reversed(input_list):\n",
    "        output_num = map_processor(num, map_doc)\n",
    "        num = output_num\n",
    "    return seed_checker(output_num, seed_ranges)   "
   ]
  },
  {
   "cell_type": "markdown",
   "id": "9671bb62",
   "metadata": {},
   "source": [
    "All the functions above are used in a while loop to increment through starting values (locations) from 0 until a location matching a seed in one of the provided ranges is found. When one is found, the function nested in the loop will return True. This is a little clunky because the start value is being incremented in the while loop, so it will have advanced by 1 before the condition is found to be True at the start of the next loop iteration. As such, the value is decreased by 1 to find the lowest location value that matched a provided seed; this is the answer to the problem!"
   ]
  },
  {
   "cell_type": "code",
   "execution_count": 93,
   "id": "5f212ccc",
   "metadata": {},
   "outputs": [],
   "source": [
    "start_num = 0\n",
    "in_range = False\n",
    "while in_range != True:\n",
    "    in_range = location_to_seed(start_num, input_list)\n",
    "    start_num = start_num + 1\n",
    "lowest_location = start_num - 1"
   ]
  },
  {
   "cell_type": "code",
   "execution_count": 92,
   "id": "8cc721c5",
   "metadata": {},
   "outputs": [
    {
     "data": {
      "text/plain": [
       "34039469"
      ]
     },
     "execution_count": 92,
     "metadata": {},
     "output_type": "execute_result"
    }
   ],
   "source": [
    "print(lowest_location)"
   ]
  }
 ],
 "metadata": {
  "kernelspec": {
   "display_name": "Python [conda env:aoc]",
   "language": "python",
   "name": "conda-env-aoc-py"
  },
  "language_info": {
   "codemirror_mode": {
    "name": "ipython",
    "version": 3
   },
   "file_extension": ".py",
   "mimetype": "text/x-python",
   "name": "python",
   "nbconvert_exporter": "python",
   "pygments_lexer": "ipython3",
   "version": "3.11.5"
  }
 },
 "nbformat": 4,
 "nbformat_minor": 5
}
