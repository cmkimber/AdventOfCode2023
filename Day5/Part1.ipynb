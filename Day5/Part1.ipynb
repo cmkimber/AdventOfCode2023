{
 "cells": [
  {
   "cell_type": "markdown",
   "id": "e6395239",
   "metadata": {},
   "source": [
    "# Advent of Code 2023"
   ]
  },
  {
   "cell_type": "markdown",
   "id": "9c9dc335",
   "metadata": {},
   "source": [
    "## Day 5 -- If You Give A Seed A Fertilizer (Part 1)"
   ]
  },
  {
   "cell_type": "markdown",
   "id": "cc9915a9",
   "metadata": {},
   "source": [
    "## Author: Chris Kimber"
   ]
  },
  {
   "cell_type": "markdown",
   "id": "c717cdc3",
   "metadata": {},
   "source": [
    "The instructions for this problem can be found at https://adventofcode.com/2023/day/5.\n",
    "\n",
    "This code for loading in and formatting the data is definitely not elegant but it works in the end. As the initial document contains several different sections split by blank lines, the document is first split on these blank lines. The first section is the input information (seeds) while the subsequent sections are all input-output maps."
   ]
  },
  {
   "cell_type": "code",
   "execution_count": 304,
   "id": "e6ff4bcf",
   "metadata": {},
   "outputs": [],
   "source": [
    "with open(\"input\", \"r\") as f:\n",
    "    input_file = f.read().rstrip().split(\"\\n\\n\")"
   ]
  },
  {
   "cell_type": "code",
   "execution_count": 305,
   "id": "9ee60d8d",
   "metadata": {},
   "outputs": [],
   "source": [
    "input_list = [x.split(\"\\n\") for x in input_file]"
   ]
  },
  {
   "cell_type": "markdown",
   "id": "d4e1adf1",
   "metadata": {},
   "source": [
    "The input \"seeds\" is separated from the rest of the maps and the numbers (the actual input) are split and converted to integers."
   ]
  },
  {
   "cell_type": "code",
   "execution_count": 306,
   "id": "2162b8f0",
   "metadata": {},
   "outputs": [],
   "source": [
    "seeds = input_list.pop(0)"
   ]
  },
  {
   "cell_type": "code",
   "execution_count": 307,
   "id": "afd55ad4",
   "metadata": {},
   "outputs": [],
   "source": [
    "seeds = [x.split(\" \")[1:] for x in seeds]"
   ]
  },
  {
   "cell_type": "code",
   "execution_count": 308,
   "id": "76b1e3ec",
   "metadata": {},
   "outputs": [],
   "source": [
    "seeds = [int(number) for x in seeds for number in x]"
   ]
  },
  {
   "cell_type": "markdown",
   "id": "f3b027ef",
   "metadata": {},
   "source": [
    "The names of each input-output map are not actually necessary to solve the problem and are stripped out. The multiple sections in each map (defining where input and output are offset) are then separated and the numbers defining the offset ranges are split)."
   ]
  },
  {
   "cell_type": "code",
   "execution_count": 309,
   "id": "e5cabc17",
   "metadata": {},
   "outputs": [],
   "source": [
    "input_list = [x[1:] for x in input_list]"
   ]
  },
  {
   "cell_type": "code",
   "execution_count": 311,
   "id": "31b995bb",
   "metadata": {},
   "outputs": [],
   "source": [
    "input_list = [[string.split(\" \") for string in line] for line in input_list]"
   ]
  },
  {
   "cell_type": "markdown",
   "id": "8dc13316",
   "metadata": {},
   "source": [
    "This function takes the information on each offset range provided in the maps and outputs range objects defining the input range and matching output range. Each map is contained within a sublist, while each matching offset input and output range for a given map is stored in a further nested sublist. "
   ]
  },
  {
   "cell_type": "code",
   "execution_count": 192,
   "id": "57edbc93",
   "metadata": {},
   "outputs": [],
   "source": [
    "def make_ranges(map):\n",
    "    source_range = range(int(map[1]), int(map[1])+int(map[2]))\n",
    "    destination_range = range(int(map[0]), int(map[0])+int(map[2]))\n",
    "    return [source_range, destination_range]"
   ]
  },
  {
   "cell_type": "code",
   "execution_count": 314,
   "id": "3a8ae2d6",
   "metadata": {},
   "outputs": [],
   "source": [
    "input_list = [[make_ranges(map) for map in line] for line in input_list]"
   ]
  },
  {
   "cell_type": "markdown",
   "id": "8afbc922",
   "metadata": {},
   "source": [
    "The following function takes a list of input numbers, runs them through the offset map and returns the corrseponding output numbers. For each input number, the function iterates through the input ranges where the outputs are offset. If the input number is in one of these ranges, it calculates the output number using the appropriate offset. If the input number is not in an offset range, it returns the input as the output."
   ]
  },
  {
   "cell_type": "code",
   "execution_count": 281,
   "id": "3c0e9554",
   "metadata": {},
   "outputs": [],
   "source": [
    "def map_processor(input_nums, map_doc):\n",
    "    output_nums = []\n",
    "    for num in input_nums:\n",
    "        for i in map_doc:\n",
    "            if num in i[0]:\n",
    "                diff = num-i[0][0]\n",
    "                destination = i[1][0] + diff\n",
    "                output_nums.append(destination)\n",
    "                break\n",
    "        else:\n",
    "            output_nums.append(num)\n",
    "    return output_nums"
   ]
  },
  {
   "cell_type": "markdown",
   "id": "936d1cc7",
   "metadata": {},
   "source": [
    "The following function takes the initial input (seeds) as input and then loops through each input-output map using the offset function above. At the end of each map, the output numbers are used as input for the next map. After passing through the final map (humidity to location), the output numbers (locations) are returned."
   ]
  },
  {
   "cell_type": "code",
   "execution_count": 288,
   "id": "8a4a7145",
   "metadata": {},
   "outputs": [],
   "source": [
    "def seed_to_location(seeds, input_list):\n",
    "    input_nums = seeds\n",
    "    for map_doc in input_list:\n",
    "        output_nums = map_processor(input_nums, map_doc)\n",
    "        input_nums = output_nums\n",
    "    return output_nums"
   ]
  },
  {
   "cell_type": "markdown",
   "id": "6f43a296",
   "metadata": {},
   "source": [
    "The lowest value in the output numbers is the answer to the problem!"
   ]
  },
  {
   "cell_type": "code",
   "execution_count": 302,
   "id": "87990a41",
   "metadata": {},
   "outputs": [],
   "source": [
    "locations = seed_to_location(seeds, input_list)"
   ]
  },
  {
   "cell_type": "code",
   "execution_count": 303,
   "id": "33ef898b",
   "metadata": {},
   "outputs": [
    {
     "name": "stdout",
     "output_type": "stream",
     "text": [
      "26273516\n"
     ]
    }
   ],
   "source": [
    "print(min(locations))"
   ]
  }
 ],
 "metadata": {
  "kernelspec": {
   "display_name": "Python [conda env:aoc]",
   "language": "python",
   "name": "conda-env-aoc-py"
  },
  "language_info": {
   "codemirror_mode": {
    "name": "ipython",
    "version": 3
   },
   "file_extension": ".py",
   "mimetype": "text/x-python",
   "name": "python",
   "nbconvert_exporter": "python",
   "pygments_lexer": "ipython3",
   "version": "3.11.5"
  }
 },
 "nbformat": 4,
 "nbformat_minor": 5
}
